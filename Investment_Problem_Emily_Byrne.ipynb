{
  "nbformat": 4,
  "nbformat_minor": 0,
  "metadata": {
    "colab": {
      "provenance": []
    },
    "kernelspec": {
      "name": "python3",
      "display_name": "Python 3"
    },
    "language_info": {
      "name": "python"
    }
  },
  "cells": [
    {
      "cell_type": "markdown",
      "source": [
        "# Investment Problem"
      ],
      "metadata": {
        "id": "Wh92QyqW5RBi"
      }
    },
    {
      "cell_type": "markdown",
      "source": [
        "## 1. Call the Library"
      ],
      "metadata": {
        "id": "uH90hEgE5XNG"
      }
    },
    {
      "cell_type": "code",
      "execution_count": 1,
      "metadata": {
        "colab": {
          "base_uri": "https://localhost:8080/"
        },
        "id": "FH49kIvjxOeJ",
        "outputId": "0af67209-65c2-4eec-ab34-bb19b8e877cd"
      },
      "outputs": [
        {
          "output_type": "stream",
          "name": "stdout",
          "text": [
            "Looking in indexes: https://pypi.org/simple, https://us-python.pkg.dev/colab-wheels/public/simple/\n",
            "Requirement already satisfied: PuLp in /usr/local/lib/python3.7/dist-packages (2.6.0)\n"
          ]
        }
      ],
      "source": [
        "pip install PuLp"
      ]
    },
    {
      "cell_type": "code",
      "source": [
        "import pulp as p "
      ],
      "metadata": {
        "id": "UpuM-tuu5ig3"
      },
      "execution_count": 2,
      "outputs": []
    },
    {
      "cell_type": "code",
      "source": [
        "from pulp import *"
      ],
      "metadata": {
        "id": "16VN8W5t5nVO"
      },
      "execution_count": 3,
      "outputs": []
    },
    {
      "cell_type": "markdown",
      "source": [
        "## 2. Input Lists/Dictionaries for the Input Parameters "
      ],
      "metadata": {
        "id": "IJYKA_iX5r0-"
      }
    },
    {
      "cell_type": "code",
      "source": [
        "# Create a List for all the Companies\n",
        "Companies = ['AcmeChemical', 'DynaStar', 'EagleVision', 'MicroModeling', 'OptiPro', 'SabreSystem']\n",
        "\n",
        "# Create a Dictionary for the Rate of Return \n",
        "Return  = {'AcmeChemical' : 0.0865, \n",
        "           'DynaStar' : 0.095, \n",
        "           'EagleVision' : 0.10, \n",
        "          'MicroModeling' : 0.0875, \n",
        "           'OptiPro' : 0.0925, \n",
        "           'SabreSystem' : 0.09}\n",
        "\n",
        "# Define a Parameter for the Total AMount Available \n",
        "TotalAmount = 750000\n",
        "\n",
        "# Define a Parameter for Long Term Bond Precentage \n",
        "LongTerm_prc = 0.50\n",
        "\n",
        "# Define a Parameter for Below-Average-Rating Percentage \n",
        "Risk_prc = 0.35\n",
        "\n",
        "# Define a Parameter for Max-Amount Percentage \n",
        "Cap_prc = 0.25"
      ],
      "metadata": {
        "id": "nuxrgKrM5x2_"
      },
      "execution_count": 4,
      "outputs": []
    },
    {
      "cell_type": "markdown",
      "source": [
        "## 3. Define Decision Variables "
      ],
      "metadata": {
        "id": "tyQ4XPDR90zc"
      }
    },
    {
      "cell_type": "code",
      "source": [
        "# Define Decision Variables \n",
        "# DV Represent the Amount of Money to Invest in Each Company \n",
        "\n",
        "Amount = LpVariable.dicts(\"X\", Companies, lowBound=0, upBound=None, cat = 'Continuous')"
      ],
      "metadata": {
        "id": "35C6lENI9-gM"
      },
      "execution_count": 5,
      "outputs": []
    },
    {
      "cell_type": "markdown",
      "source": [
        "## 4. Define Objective Function"
      ],
      "metadata": {
        "id": "_nS9yyQV-yXl"
      }
    },
    {
      "cell_type": "code",
      "source": [
        "Investment_Prb = p.LpProblem('Investing_Problem', p.LpMaximize)"
      ],
      "metadata": {
        "id": "lnmQTNYp_D-Z"
      },
      "execution_count": 6,
      "outputs": []
    },
    {
      "cell_type": "code",
      "source": [
        "Investment_Prb += lpSum(Return[i]*Amount[i] for i in Companies)"
      ],
      "metadata": {
        "id": "e5bGQwn-_RFw"
      },
      "execution_count": 7,
      "outputs": []
    },
    {
      "cell_type": "markdown",
      "source": [
        "## 5. Define the Constraints "
      ],
      "metadata": {
        "id": "Xn4mJRay_sFx"
      }
    },
    {
      "cell_type": "code",
      "source": [
        "# Total Amount Invested  = $750,000\n",
        "Investment_Prb += lpSum(Amount[i] for i in Companies) == TotalAmount"
      ],
      "metadata": {
        "id": "XydYO3gE_qjv"
      },
      "execution_count": 8,
      "outputs": []
    },
    {
      "cell_type": "code",
      "source": [
        "# Amount Invested in Each Company Shouldn't Exceed 25% of the Total Amount \n",
        "for i in Companies:\n",
        "  Investment_Prb += Amount[i] <= Cap_prc*TotalAmount"
      ],
      "metadata": {
        "id": "li0xuyj1ADWq"
      },
      "execution_count": 9,
      "outputs": []
    },
    {
      "cell_type": "code",
      "source": [
        "# Amount Invested in Long Term Bonds Should be Atleast 0.50 of Total Amount \n",
        "Investment_Prb += Amount['AcmeChemical'] + Amount['DynaStar'] + Amount['MicroModeling'] + Amount['SabreSystem'] >= LongTerm_prc*TotalAmount"
      ],
      "metadata": {
        "id": "RejEqeYCBUTI"
      },
      "execution_count": 10,
      "outputs": []
    },
    {
      "cell_type": "code",
      "source": [
        "# Amount Invested in Risky Bonds Shouldn't Exceed 0.35 of the Total Amount \n",
        "Investment_Prb += Amount['DynaStar'] + Amount['EagleVision'] + Amount['OptiPro'] <= Risk_prc*TotalAmount"
      ],
      "metadata": {
        "id": "4Flj35mLCbFs"
      },
      "execution_count": 11,
      "outputs": []
    },
    {
      "cell_type": "markdown",
      "source": [
        "## 6. Display the Problem"
      ],
      "metadata": {
        "id": "YalmWgVHCWkJ"
      }
    },
    {
      "cell_type": "code",
      "source": [
        "Investment_Prb"
      ],
      "metadata": {
        "colab": {
          "base_uri": "https://localhost:8080/"
        },
        "id": "l1e6inmMCZwt",
        "outputId": "5ededc6c-73bd-4c7f-d638-1c2444136ca1"
      },
      "execution_count": 12,
      "outputs": [
        {
          "output_type": "execute_result",
          "data": {
            "text/plain": [
              "Investing_Problem:\n",
              "MAXIMIZE\n",
              "0.0865*X_AcmeChemical + 0.095*X_DynaStar + 0.1*X_EagleVision + 0.0875*X_MicroModeling + 0.0925*X_OptiPro + 0.09*X_SabreSystem + 0.0\n",
              "SUBJECT TO\n",
              "_C1: X_AcmeChemical + X_DynaStar + X_EagleVision + X_MicroModeling + X_OptiPro\n",
              " + X_SabreSystem = 750000\n",
              "\n",
              "_C2: X_AcmeChemical <= 187500\n",
              "\n",
              "_C3: X_DynaStar <= 187500\n",
              "\n",
              "_C4: X_EagleVision <= 187500\n",
              "\n",
              "_C5: X_MicroModeling <= 187500\n",
              "\n",
              "_C6: X_OptiPro <= 187500\n",
              "\n",
              "_C7: X_SabreSystem <= 187500\n",
              "\n",
              "_C8: X_AcmeChemical + X_DynaStar + X_MicroModeling + X_SabreSystem >= 375000\n",
              "\n",
              "_C9: X_DynaStar + X_EagleVision + X_OptiPro <= 262500\n",
              "\n",
              "VARIABLES\n",
              "X_AcmeChemical Continuous\n",
              "X_DynaStar Continuous\n",
              "X_EagleVision Continuous\n",
              "X_MicroModeling Continuous\n",
              "X_OptiPro Continuous\n",
              "X_SabreSystem Continuous"
            ]
          },
          "metadata": {},
          "execution_count": 12
        }
      ]
    },
    {
      "cell_type": "markdown",
      "source": [
        "## 7. Solve the Problem"
      ],
      "metadata": {
        "id": "24ZcxOylC_HZ"
      }
    },
    {
      "cell_type": "code",
      "source": [
        "# Print Status \n",
        "status = Investment_Prb.solve()\n",
        "print(p.LpStatus[status])\n"
      ],
      "metadata": {
        "colab": {
          "base_uri": "https://localhost:8080/"
        },
        "id": "2l1lQr1TDBHA",
        "outputId": "f4e896d2-f342-4a96-d63a-1fc8e1f038ff"
      },
      "execution_count": 13,
      "outputs": [
        {
          "output_type": "stream",
          "name": "stdout",
          "text": [
            "Optimal\n"
          ]
        }
      ]
    },
    {
      "cell_type": "code",
      "source": [
        "# Print the Solution \n",
        "print(\"Total Returns\", p.value(Investment_Prb.objective))\n"
      ],
      "metadata": {
        "colab": {
          "base_uri": "https://localhost:8080/"
        },
        "id": "pSscx5ztDWRI",
        "outputId": "07912202-fb93-4bd9-9cdb-86013cbab29d"
      },
      "execution_count": 14,
      "outputs": [
        {
          "output_type": "stream",
          "name": "stdout",
          "text": [
            "Total Returns 68887.5\n"
          ]
        }
      ]
    }
  ]
}