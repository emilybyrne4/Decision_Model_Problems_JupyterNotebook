{
  "nbformat": 4,
  "nbformat_minor": 0,
  "metadata": {
    "colab": {
      "provenance": []
    },
    "kernelspec": {
      "name": "python3",
      "display_name": "Python 3"
    },
    "language_info": {
      "name": "python"
    }
  },
  "cells": [
    {
      "cell_type": "markdown",
      "source": [
        "# Project Management Crashing Problem"
      ],
      "metadata": {
        "id": "minFMehNejtH"
      }
    },
    {
      "cell_type": "markdown",
      "source": [
        "## 1. Call Library"
      ],
      "metadata": {
        "id": "QuDX3Uq1elwR"
      }
    },
    {
      "cell_type": "code",
      "execution_count": 1,
      "metadata": {
        "id": "fS2fdnEc4zId",
        "colab": {
          "base_uri": "https://localhost:8080/"
        },
        "outputId": "5cde2078-5744-4f42-f851-5a5494208f2b"
      },
      "outputs": [
        {
          "output_type": "stream",
          "name": "stdout",
          "text": [
            "Looking in indexes: https://pypi.org/simple, https://us-python.pkg.dev/colab-wheels/public/simple/\n",
            "Collecting PuLp\n",
            "  Downloading PuLP-2.7.0-py3-none-any.whl (14.3 MB)\n",
            "\u001b[K     |████████████████████████████████| 14.3 MB 4.4 MB/s \n",
            "\u001b[?25hInstalling collected packages: PuLp\n",
            "Successfully installed PuLp-2.7.0\n"
          ]
        }
      ],
      "source": [
        "pip install PuLp"
      ]
    },
    {
      "cell_type": "code",
      "source": [
        "import pulp as p"
      ],
      "metadata": {
        "id": "vU8PaY45e6Gd"
      },
      "execution_count": 2,
      "outputs": []
    },
    {
      "cell_type": "code",
      "source": [
        "from pulp import *"
      ],
      "metadata": {
        "id": "I-uryyR1e8B6"
      },
      "execution_count": 3,
      "outputs": []
    },
    {
      "cell_type": "markdown",
      "source": [
        "## 2. Create Lists/Dictionaries for Input Parameters "
      ],
      "metadata": {
        "id": "_CX1DYGQe-u-"
      }
    },
    {
      "cell_type": "code",
      "source": [
        "Activities = ['ActivityA', 'ActivityB', 'ActivityC', 'ActivityD', 'ActivityE', 'ActivityF', 'ActivityG', 'ActivityH', 'ActivityI', 'ActivityJ', 'ActivityK', 'ActivityL', 'ActivityM']\n",
        "\n",
        "Normal_Time = {'ActivityA' : 3, \n",
        "              'ActivityB' : 4, \n",
        "              'ActivityC' : 3, \n",
        "              'ActivityD' : 10, \n",
        "              'ActivityE' : 8, \n",
        "              'ActivityF' : 4, \n",
        "              'ActivityG' : 6, \n",
        "              'ActivityH' : 8, \n",
        "              'ActivityI' : 5, \n",
        "              'ActivityJ' : 5, \n",
        "              'ActivityK' : 4, \n",
        "              'ActivityL' : 2, \n",
        "              'ActivityM' : 4\n",
        "               }\n",
        "\n",
        "Arcs = [('ActivityA', 'ActivityB'), ('ActivityB', 'ActivityC'), ('ActivityB', 'ActivityD'), ('ActivityC', 'ActivityH'), ('ActivityD', 'ActivityE'), ('ActivityD', 'ActivityF'), ('ActivityD', 'ActivityG'), ('ActivityE', 'ActivityH'), ('ActivityF', 'ActivityH'), ('ActivityG', 'ActivityH'), ('ActivityH', 'ActivityI'), ('ActivityH', 'ActivityJ'), ('ActivityI', 'ActivityK'), ('ActivityJ', 'ActivityL'), ('ActivityK', 'ActivityM'), ('ActivityL', 'ActivityM')]\n",
        "\n",
        "Crash_Time = {'ActivityA' : 2, \n",
        "              'ActivityB' : 3, \n",
        "              'ActivityC' : 2, \n",
        "              'ActivityD' : 6, \n",
        "              'ActivityE' : 5, \n",
        "              'ActivityF' : 3, \n",
        "              'ActivityG' : 4, \n",
        "              'ActivityH' : 5, \n",
        "              'ActivityI' : 3, \n",
        "              'ActivityJ' : 2, \n",
        "              'ActivityK' : 2, \n",
        "              'ActivityL' : 1, \n",
        "              'ActivityM' : 2\n",
        "               }\n",
        "\n",
        "Allowable_Crash_Days = {'ActivityA' : 1, \n",
        "                        'ActivityB' : 1, \n",
        "                        'ActivityC' : 1, \n",
        "                        'ActivityD' : 4, \n",
        "                        'ActivityE' : 3, \n",
        "                        'ActivityF' : 1, \n",
        "                        'ActivityG' : 2, \n",
        "                        'ActivityH' : 3, \n",
        "                        'ActivityI' : 2, \n",
        "                        'ActivityJ' : 3, \n",
        "                        'ActivityK' : 2, \n",
        "                        'ActivityL' : 1, \n",
        "                        'ActivityM' : 2\n",
        "                        }\n",
        "\n",
        "Crash_Cost_Day = {'ActivityA' : 1000, \n",
        "                  'ActivityB' : 3000, \n",
        "                  'ActivityC' : 500, \n",
        "                  'ActivityD' : 1250, \n",
        "                  'ActivityE' : 666.67, \n",
        "                  'ActivityF' : 1000, \n",
        "                  'ActivityG' : 500, \n",
        "                  'ActivityH' : 500, \n",
        "                  'ActivityI' : 750, \n",
        "                  'ActivityJ' : 500, \n",
        "                  'ActivityK' : 750, \n",
        "                  'ActivityL' : 500, \n",
        "                  'ActivityM' : 1000\n",
        "                  }"
      ],
      "metadata": {
        "id": "dC0z0VMvfDSm"
      },
      "execution_count": 13,
      "outputs": []
    },
    {
      "cell_type": "markdown",
      "source": [
        "## 3. Define Decision Variables "
      ],
      "metadata": {
        "id": "t6Ug0BSWfDrQ"
      }
    },
    {
      "cell_type": "code",
      "source": [
        "Start = LpVariable.dicts(\"Start_Time\", Activities, lowBound=0, upBound=None, cat = LpContinuous)\n",
        "Crash = LpVariable.dicts(\"Crash_Time\", Activities, lowBound=0, upBound=None, cat = LpContinuous)"
      ],
      "metadata": {
        "id": "v-eUA8TbfG8Z"
      },
      "execution_count": 14,
      "outputs": []
    },
    {
      "cell_type": "markdown",
      "source": [
        "## 4. Define Problem"
      ],
      "metadata": {
        "id": "o4o4gk9JfHM0"
      }
    },
    {
      "cell_type": "code",
      "source": [
        "Project_Management_Crashing_Prob = p.LpProblem(\"Project Management Crashing Problem\", p.LpMinimize)"
      ],
      "metadata": {
        "id": "gL7KFnFNfJqR"
      },
      "execution_count": null,
      "outputs": []
    },
    {
      "cell_type": "markdown",
      "source": [
        "## 5. Define Objective Function "
      ],
      "metadata": {
        "id": "QKIMSKcMfKGp"
      }
    },
    {
      "cell_type": "code",
      "source": [
        "Project_Management_Crashing_Prob += Start['ActivityM'] + Crash_Time['ActivityM']"
      ],
      "metadata": {
        "id": "WsQS2dpVfM3h"
      },
      "execution_count": 24,
      "outputs": []
    },
    {
      "cell_type": "markdown",
      "source": [
        "## 6. Define Constraints"
      ],
      "metadata": {
        "id": "ap_YRgCHfOxp"
      }
    },
    {
      "cell_type": "code",
      "source": [
        "for x in Activities:\n",
        "  Project_Management_Crashing_Prob += Crash[x] <= Allowable_Crash_Days[x] \n",
        "\n",
        "for (o, d) in Arcs:\n",
        "  Project_Management_Crashing_Prob += Start[o] + Crash_Time[o] <= Start[d]"
      ],
      "metadata": {
        "id": "cqTv0BBafQk2"
      },
      "execution_count": 36,
      "outputs": []
    },
    {
      "cell_type": "markdown",
      "source": [
        "## 7. Display Problem "
      ],
      "metadata": {
        "id": "rLnBNwFyfSTi"
      }
    },
    {
      "cell_type": "code",
      "source": [
        "Project_Management_Crashing_Prob"
      ],
      "metadata": {
        "colab": {
          "base_uri": "https://localhost:8080/"
        },
        "id": "FAMwDOcIfT2S",
        "outputId": "bcdac299-f4fd-4a73-e3d3-4eaffb180847"
      },
      "execution_count": 37,
      "outputs": [
        {
          "output_type": "execute_result",
          "data": {
            "text/plain": [
              "Project_Management_Crashing_Problem:\n",
              "MINIMIZE\n",
              "1*Start_Time_ActivityM + 2\n",
              "SUBJECT TO\n",
              "_C1: Start_Time_ActivityA - Start_Time_ActivityB <= -2\n",
              "\n",
              "_C2: Start_Time_ActivityB - Start_Time_ActivityC <= -3\n",
              "\n",
              "_C3: Start_Time_ActivityB - Start_Time_ActivityD <= -3\n",
              "\n",
              "_C4: Start_Time_ActivityC - Start_Time_ActivityH <= -2\n",
              "\n",
              "_C5: Start_Time_ActivityD - Start_Time_ActivityE <= -6\n",
              "\n",
              "_C6: Start_Time_ActivityD - Start_Time_ActivityF <= -6\n",
              "\n",
              "_C7: Start_Time_ActivityD - Start_Time_ActivityG <= -6\n",
              "\n",
              "_C8: Start_Time_ActivityE - Start_Time_ActivityH <= -5\n",
              "\n",
              "_C9: Start_Time_ActivityF - Start_Time_ActivityH <= -3\n",
              "\n",
              "_C10: Start_Time_ActivityG - Start_Time_ActivityH <= -4\n",
              "\n",
              "_C11: Start_Time_ActivityH - Start_Time_ActivityI <= -5\n",
              "\n",
              "_C12: Start_Time_ActivityH - Start_Time_ActivityJ <= -5\n",
              "\n",
              "_C13: Start_Time_ActivityI - Start_Time_ActivityK <= -3\n",
              "\n",
              "_C14: Start_Time_ActivityJ - Start_Time_ActivityL <= -2\n",
              "\n",
              "_C15: Start_Time_ActivityK - Start_Time_ActivityM <= -2\n",
              "\n",
              "_C16: Start_Time_ActivityL - Start_Time_ActivityM <= -1\n",
              "\n",
              "_C17: Crash_Time_ActivityA <= 1\n",
              "\n",
              "_C18: Crash_Time_ActivityB <= 1\n",
              "\n",
              "_C19: Crash_Time_ActivityC <= 1\n",
              "\n",
              "_C20: Crash_Time_ActivityD <= 4\n",
              "\n",
              "_C21: Crash_Time_ActivityE <= 3\n",
              "\n",
              "_C22: Crash_Time_ActivityF <= 1\n",
              "\n",
              "_C23: Crash_Time_ActivityG <= 2\n",
              "\n",
              "_C24: Crash_Time_ActivityH <= 3\n",
              "\n",
              "_C25: Crash_Time_ActivityI <= 2\n",
              "\n",
              "_C26: Crash_Time_ActivityJ <= 3\n",
              "\n",
              "_C27: Crash_Time_ActivityK <= 2\n",
              "\n",
              "_C28: Crash_Time_ActivityL <= 1\n",
              "\n",
              "_C29: Crash_Time_ActivityM <= 2\n",
              "\n",
              "_C30: Start_Time_ActivityA - Start_Time_ActivityB <= -2\n",
              "\n",
              "_C31: Start_Time_ActivityB - Start_Time_ActivityC <= -3\n",
              "\n",
              "_C32: Start_Time_ActivityB - Start_Time_ActivityD <= -3\n",
              "\n",
              "_C33: Start_Time_ActivityC - Start_Time_ActivityH <= -2\n",
              "\n",
              "_C34: Start_Time_ActivityD - Start_Time_ActivityE <= -6\n",
              "\n",
              "_C35: Start_Time_ActivityD - Start_Time_ActivityF <= -6\n",
              "\n",
              "_C36: Start_Time_ActivityD - Start_Time_ActivityG <= -6\n",
              "\n",
              "_C37: Start_Time_ActivityE - Start_Time_ActivityH <= -5\n",
              "\n",
              "_C38: Start_Time_ActivityF - Start_Time_ActivityH <= -3\n",
              "\n",
              "_C39: Start_Time_ActivityG - Start_Time_ActivityH <= -4\n",
              "\n",
              "_C40: Start_Time_ActivityH - Start_Time_ActivityI <= -5\n",
              "\n",
              "_C41: Start_Time_ActivityH - Start_Time_ActivityJ <= -5\n",
              "\n",
              "_C42: Start_Time_ActivityI - Start_Time_ActivityK <= -3\n",
              "\n",
              "_C43: Start_Time_ActivityJ - Start_Time_ActivityL <= -2\n",
              "\n",
              "_C44: Start_Time_ActivityK - Start_Time_ActivityM <= -2\n",
              "\n",
              "_C45: Start_Time_ActivityL - Start_Time_ActivityM <= -1\n",
              "\n",
              "VARIABLES\n",
              "Crash_Time_ActivityA Continuous\n",
              "Crash_Time_ActivityB Continuous\n",
              "Crash_Time_ActivityC Continuous\n",
              "Crash_Time_ActivityD Continuous\n",
              "Crash_Time_ActivityE Continuous\n",
              "Crash_Time_ActivityF Continuous\n",
              "Crash_Time_ActivityG Continuous\n",
              "Crash_Time_ActivityH Continuous\n",
              "Crash_Time_ActivityI Continuous\n",
              "Crash_Time_ActivityJ Continuous\n",
              "Crash_Time_ActivityK Continuous\n",
              "Crash_Time_ActivityL Continuous\n",
              "Crash_Time_ActivityM Continuous\n",
              "Start_Time_ActivityA Continuous\n",
              "Start_Time_ActivityB Continuous\n",
              "Start_Time_ActivityC Continuous\n",
              "Start_Time_ActivityD Continuous\n",
              "Start_Time_ActivityE Continuous\n",
              "Start_Time_ActivityF Continuous\n",
              "Start_Time_ActivityG Continuous\n",
              "Start_Time_ActivityH Continuous\n",
              "Start_Time_ActivityI Continuous\n",
              "Start_Time_ActivityJ Continuous\n",
              "Start_Time_ActivityK Continuous\n",
              "Start_Time_ActivityL Continuous\n",
              "Start_Time_ActivityM Continuous"
            ]
          },
          "metadata": {},
          "execution_count": 37
        }
      ]
    },
    {
      "cell_type": "markdown",
      "source": [
        "## 8. Solve Problem "
      ],
      "metadata": {
        "id": "KNaiudw9fUAh"
      }
    },
    {
      "cell_type": "code",
      "source": [
        "status = Project_Management_Crashing_Prob.solve()\n",
        "print(p.LpStatus[status])"
      ],
      "metadata": {
        "colab": {
          "base_uri": "https://localhost:8080/"
        },
        "id": "KXhW5w4EfXnq",
        "outputId": "73b01a31-a6d0-4a43-dd22-f35953b34e4e"
      },
      "execution_count": 38,
      "outputs": [
        {
          "output_type": "stream",
          "name": "stdout",
          "text": [
            "Optimal\n"
          ]
        }
      ]
    },
    {
      "cell_type": "code",
      "source": [
        "print(\"Completion Time\", p.value(Project_Management_Crashing_Prob.objective))"
      ],
      "metadata": {
        "colab": {
          "base_uri": "https://localhost:8080/"
        },
        "id": "lDEBAcxgp_24",
        "outputId": "220cbc45-03b6-4993-80f0-c0634f5369d6"
      },
      "execution_count": 39,
      "outputs": [
        {
          "output_type": "stream",
          "name": "stdout",
          "text": [
            "Completion Time 28.0\n"
          ]
        }
      ]
    }
  ]
}