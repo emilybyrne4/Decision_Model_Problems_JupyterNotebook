{
  "nbformat": 4,
  "nbformat_minor": 0,
  "metadata": {
    "colab": {
      "provenance": []
    },
    "kernelspec": {
      "name": "python3",
      "display_name": "Python 3"
    },
    "language_info": {
      "name": "python"
    }
  },
  "cells": [
    {
      "cell_type": "markdown",
      "source": [
        "# Transshipment Problem"
      ],
      "metadata": {
        "id": "Pi_PcrcBSnDW"
      }
    },
    {
      "cell_type": "markdown",
      "source": [
        "## 1. Call the Library "
      ],
      "metadata": {
        "id": "ABW3zbHLSqDw"
      }
    },
    {
      "cell_type": "code",
      "source": [
        "pip install PuLp"
      ],
      "metadata": {
        "colab": {
          "base_uri": "https://localhost:8080/"
        },
        "id": "H0_88tsoStvg",
        "outputId": "a123d681-c587-479c-ff58-471c6f46849e"
      },
      "execution_count": null,
      "outputs": [
        {
          "output_type": "stream",
          "name": "stdout",
          "text": [
            "Looking in indexes: https://pypi.org/simple, https://us-python.pkg.dev/colab-wheels/public/simple/\n",
            "Collecting PuLp\n",
            "  Downloading PuLP-2.7.0-py3-none-any.whl (14.3 MB)\n",
            "\u001b[K     |████████████████████████████████| 14.3 MB 5.2 MB/s \n",
            "\u001b[?25hInstalling collected packages: PuLp\n",
            "Successfully installed PuLp-2.7.0\n"
          ]
        }
      ]
    },
    {
      "cell_type": "code",
      "execution_count": null,
      "metadata": {
        "id": "KF03WBG0OA_p"
      },
      "outputs": [],
      "source": [
        "import pulp as p "
      ]
    },
    {
      "cell_type": "code",
      "source": [
        "from pulp import *"
      ],
      "metadata": {
        "id": "A7vrmTe8SzsL"
      },
      "execution_count": null,
      "outputs": []
    },
    {
      "cell_type": "markdown",
      "source": [
        "## 2. Create Lists/Dictionaries for Input Parameters "
      ],
      "metadata": {
        "id": "pRDtQ4AQS2uC"
      }
    },
    {
      "cell_type": "code",
      "source": [
        "Nodes = ['Newark', 'Boston', 'Columbus', 'Richmond', 'Atlanta', 'Mobile', 'Jacksonville']\n",
        "Arcs = [('Newark', 'Boston'), ('Newark', 'Richmond'), ('Boston', 'Columbus'), ('Columbus', 'Atlanta'), ('Atlanta', 'Columbus'), ('Atlanta', 'Richmond'), ('Atlanta', 'Mobile'), ('Mobile', 'Atlanta'), ('Jacksonville', 'Richmond'), ('Jacksonville', 'Atlanta'), ('Jacksonville', 'Mobile')]\n",
        "\n",
        "Supply_Demand = {'Newark' : -200,\n",
        "                 'Boston' : 100,\n",
        "                 'Columbus' : 60,\n",
        "                 'Richmond' : 80,\n",
        "                 'Atlanta' : 170,\n",
        "                 'Mobile' : 70,\n",
        "                 'Jacksonville' : -300\n",
        "                 }\n",
        "\n",
        "Cost = {('Newark', 'Boston') : 30,\n",
        "        ('Newark', 'Richmond') : 40,\n",
        "        ('Boston', 'Columbus') : 50,\n",
        "        ('Columbus', 'Atlanta') : 35,\n",
        "        ('Atlanta', 'Columbus') : 40,\n",
        "        ('Atlanta', 'Richmond') : 30,\n",
        "        ('Atlanta', 'Mobile') : 35,\n",
        "        ('Mobile', 'Atlanta') : 25,\n",
        "        ('Jacksonville', 'Richmond') : 50,\n",
        "        ('Jacksonville', 'Atlanta') : 45,\n",
        "        ('Jacksonville', 'Mobile') : 50\n",
        "        }"
      ],
      "metadata": {
        "id": "wRZHrm5TS7hY"
      },
      "execution_count": null,
      "outputs": []
    },
    {
      "cell_type": "markdown",
      "source": [
        "## 3. Define Decision Variables "
      ],
      "metadata": {
        "id": "MKTgOSsgXHlR"
      }
    },
    {
      "cell_type": "code",
      "source": [
        "Number_of_Cars = LpVariable.dicts(\"Number\", Arcs, lowBound=0, upBound=None, cat = LpContinuous)"
      ],
      "metadata": {
        "id": "97pzvI47XK99"
      },
      "execution_count": null,
      "outputs": []
    },
    {
      "cell_type": "markdown",
      "source": [
        "## 4. Define the Problem "
      ],
      "metadata": {
        "id": "OdNLBCpIYBR1"
      }
    },
    {
      "cell_type": "code",
      "source": [
        "Transship_Prob = p.LpProblem(\"Transshipment_Problem\", p.LpMinimize)"
      ],
      "metadata": {
        "id": "W6BF_QywYDLX"
      },
      "execution_count": null,
      "outputs": []
    },
    {
      "cell_type": "markdown",
      "source": [
        "## 5. Define Objective Function "
      ],
      "metadata": {
        "id": "K2x3d3e1YPBT"
      }
    },
    {
      "cell_type": "code",
      "source": [
        "Total_Cost = p.lpSum(Number_of_Cars[a]*Cost[a] for a in Arcs)"
      ],
      "metadata": {
        "id": "S6-J3SgSZbxl"
      },
      "execution_count": null,
      "outputs": []
    },
    {
      "cell_type": "markdown",
      "source": [
        "## 6. Define the Constraints"
      ],
      "metadata": {
        "id": "raErXwNoYSH9"
      }
    },
    {
      "cell_type": "code",
      "source": [
        "for (o, d) in Arcs:\n",
        "  Transship_Prob += lpSum(Number_of_Cars[(o, d)]*Cost[a] if Nodes == [(d)] else 0 for a in Arcs) - lpSum(Number_of_Cars[(o, d)]*Cost[a] if Nodes == [(d)] else 0] for a in Arcs) <= Supply_Demand"
      ],
      "metadata": {
        "id": "g3Dwb4NybOve"
      },
      "execution_count": null,
      "outputs": []
    },
    {
      "cell_type": "markdown",
      "source": [
        "## 7. Display the Problem "
      ],
      "metadata": {
        "id": "lza_hO1vcuBS"
      }
    },
    {
      "cell_type": "code",
      "source": [
        "Transship_Prob"
      ],
      "metadata": {
        "id": "FfvrXa9pcw2O"
      },
      "execution_count": null,
      "outputs": []
    },
    {
      "cell_type": "markdown",
      "source": [
        "## 8. Solve the Problem "
      ],
      "metadata": {
        "id": "FjYBnT6aczqW"
      }
    },
    {
      "cell_type": "code",
      "source": [
        "status = Transship_Prob.solve()\n",
        "print(p.LpStatus[status])"
      ],
      "metadata": {
        "id": "KHAEkWscc2r2"
      },
      "execution_count": null,
      "outputs": []
    },
    {
      "cell_type": "code",
      "source": [
        "print(\"Total Transportation Cost\", p.value(Transship_Prob.objective))"
      ],
      "metadata": {
        "id": "_QlUygyrdAz0"
      },
      "execution_count": null,
      "outputs": []
    }
  ]
}