{
  "nbformat": 4,
  "nbformat_minor": 0,
  "metadata": {
    "colab": {
      "provenance": []
    },
    "kernelspec": {
      "name": "python3",
      "display_name": "Python 3"
    },
    "language_info": {
      "name": "python"
    }
  },
  "cells": [
    {
      "cell_type": "markdown",
      "source": [
        "# Fixed-Charge Problem "
      ],
      "metadata": {
        "id": "Z_0JRVXjWe-B"
      }
    },
    {
      "cell_type": "markdown",
      "source": [
        "## 1. Call the Library"
      ],
      "metadata": {
        "id": "lkbCIT0PWiR3"
      }
    },
    {
      "cell_type": "code",
      "source": [
        "pip install PuLp"
      ],
      "metadata": {
        "id": "h8dXfwXUWoqo"
      },
      "execution_count": null,
      "outputs": []
    },
    {
      "cell_type": "code",
      "source": [
        "import pulp as p"
      ],
      "metadata": {
        "id": "FHKeM3tsW0l-"
      },
      "execution_count": 2,
      "outputs": []
    },
    {
      "cell_type": "code",
      "source": [
        "from pulp import *"
      ],
      "metadata": {
        "id": "NlqZbVISW3AP"
      },
      "execution_count": 3,
      "outputs": []
    },
    {
      "cell_type": "markdown",
      "source": [
        "## 2. Create Lists/Dictionaries for Input Parameters "
      ],
      "metadata": {
        "id": "4dguqi_HW6pQ"
      }
    },
    {
      "cell_type": "code",
      "source": [
        "Products = ['Product1', 'Product2', 'Product3']\n",
        "Operations = ['Machining', 'Grinding', 'Assembly'] \n",
        "\n",
        "Unit_Revenue = {'Product1' : 48,\n",
        "                'Product2' : 55,\n",
        "                'Product3' : 50}\n",
        "\n",
        "Setup_Cost = {'Product1' : 1000,\n",
        "              'Product2' : 800,\n",
        "              'Product3' : 900}\n",
        "\n",
        "Hours_Available = {'Machining' : 600,\n",
        "                   'Grinding' : 300,\n",
        "                   'Assembly' : 400}\n",
        "\n",
        "Upper_Bound = {'Product1' : 50,\n",
        "               'Product2' : 67,\n",
        "               'Product3' : 75}\n",
        "\n",
        "Hours_Required = {'Machining' : {'Product1' : 2, 'Product2' : 3, 'Product3': 6},\n",
        "                  'Grinding' : {'Product1' : 6, 'Product2' : 3, 'Product3' : 4}, \n",
        "                  'Assembly' : {'Product1' : 5, 'Product2' : 6, 'Product3' : 2}\n",
        "                  }"
      ],
      "metadata": {
        "id": "Hb7OJgg4W_jx"
      },
      "execution_count": 4,
      "outputs": []
    },
    {
      "cell_type": "markdown",
      "source": [
        "## 3. Define Decision Variables "
      ],
      "metadata": {
        "id": "KxVZE4LZXBOZ"
      }
    },
    {
      "cell_type": "code",
      "source": [
        "Number_Var = LpVariable.dicts(\"Units\", Products, lowBound=0, upBound=None, cat = LpInteger)\n",
        "Binary_Var = LpVariable.dicts(\"Setup\", Products, lowBound=0, upBound=None, cat = LpBinary)\n",
        "\n",
        "FixedCharge_Prob = p.LpProblem(\"Fixed_Charge_Problem\", p.LpMaximize)"
      ],
      "metadata": {
        "id": "oKSLoKwiXEQb"
      },
      "execution_count": 5,
      "outputs": []
    },
    {
      "cell_type": "markdown",
      "source": [
        "## 4. Define Objective Function "
      ],
      "metadata": {
        "id": "o8oBkeKnXEnX"
      }
    },
    {
      "cell_type": "code",
      "source": [
        "Revenue = p.lpSum(Number_Var[i]*Unit_Revenue[i] for i in Products)\n",
        "Fixed_Cost = p.lpSum(Binary_Var[i]*Setup_Cost[i] for i in Products)\n",
        "\n",
        "FixedCharge_Prob += Revenue - Fixed_Cost"
      ],
      "metadata": {
        "id": "F89pXPDxXJwz"
      },
      "execution_count": 6,
      "outputs": []
    },
    {
      "cell_type": "markdown",
      "source": [
        "## 5. Define the Constraints "
      ],
      "metadata": {
        "id": "THbQvpp-XKJT"
      }
    },
    {
      "cell_type": "code",
      "source": [
        "for o in Operations:\n",
        "  FixedCharge_Prob += lpSum(Number_Var[i]*Hours_Required[o][i] for i in Products) <= Hours_Available[o]\n",
        "\n",
        "for i in Products:\n",
        "  FixedCharge_Prob += Number_Var[i] <= Upper_Bound[i]*Binary_Var[i]"
      ],
      "metadata": {
        "id": "Se5r4PM1XMr7"
      },
      "execution_count": 7,
      "outputs": []
    },
    {
      "cell_type": "markdown",
      "source": [
        "## 6. Display the Problem"
      ],
      "metadata": {
        "id": "fxyRuOwSXNJG"
      }
    },
    {
      "cell_type": "code",
      "source": [
        "FixedCharge_Prob"
      ],
      "metadata": {
        "colab": {
          "base_uri": "https://localhost:8080/"
        },
        "id": "ueQhHtVZXPw5",
        "outputId": "032c01f6-83f8-4d14-a435-f539324b8b9a"
      },
      "execution_count": 8,
      "outputs": [
        {
          "output_type": "execute_result",
          "data": {
            "text/plain": [
              "Fixed_Charge_Problem:\n",
              "MAXIMIZE\n",
              "-1000*Setup_Product1 + -800*Setup_Product2 + -900*Setup_Product3 + 48*Units_Product1 + 55*Units_Product2 + 50*Units_Product3 + 0\n",
              "SUBJECT TO\n",
              "_C1: 2 Units_Product1 + 3 Units_Product2 + 6 Units_Product3 <= 600\n",
              "\n",
              "_C2: 6 Units_Product1 + 3 Units_Product2 + 4 Units_Product3 <= 300\n",
              "\n",
              "_C3: 5 Units_Product1 + 6 Units_Product2 + 2 Units_Product3 <= 400\n",
              "\n",
              "_C4: - 50 Setup_Product1 + Units_Product1 <= 0\n",
              "\n",
              "_C5: - 67 Setup_Product2 + Units_Product2 <= 0\n",
              "\n",
              "_C6: - 75 Setup_Product3 + Units_Product3 <= 0\n",
              "\n",
              "VARIABLES\n",
              "0 <= Setup_Product1 <= 1 Integer\n",
              "0 <= Setup_Product2 <= 1 Integer\n",
              "0 <= Setup_Product3 <= 1 Integer\n",
              "0 <= Units_Product1 Integer\n",
              "0 <= Units_Product2 Integer\n",
              "0 <= Units_Product3 Integer"
            ]
          },
          "metadata": {},
          "execution_count": 8
        }
      ]
    },
    {
      "cell_type": "markdown",
      "source": [
        "## 7. Solve the Problem "
      ],
      "metadata": {
        "id": "6CMIFMvSXQP2"
      }
    },
    {
      "cell_type": "code",
      "source": [
        "status = FixedCharge_Prob.solve()\n",
        "print(p.LpStatus[status])"
      ],
      "metadata": {
        "colab": {
          "base_uri": "https://localhost:8080/"
        },
        "id": "xJSWFrbcXTIA",
        "outputId": "6e7d400d-34d0-4ef0-b265-5e8ff0d5cb61"
      },
      "execution_count": 9,
      "outputs": [
        {
          "output_type": "stream",
          "name": "stdout",
          "text": [
            "Optimal\n"
          ]
        }
      ]
    },
    {
      "cell_type": "code",
      "source": [
        "print(\"Total Profit\", p.value(FixedCharge_Prob.objective))"
      ],
      "metadata": {
        "colab": {
          "base_uri": "https://localhost:8080/"
        },
        "id": "4jC8_3IfmIY-",
        "outputId": "6d3339b5-d795-4e8b-dc80-0218273e6281"
      },
      "execution_count": 10,
      "outputs": [
        {
          "output_type": "stream",
          "name": "stdout",
          "text": [
            "Total Profit 2980.0\n"
          ]
        }
      ]
    }
  ]
}
