{
  "nbformat": 4,
  "nbformat_minor": 0,
  "metadata": {
    "colab": {
      "provenance": []
    },
    "kernelspec": {
      "name": "python3",
      "display_name": "Python 3"
    },
    "language_info": {
      "name": "python"
    }
  },
  "cells": [
    {
      "cell_type": "markdown",
      "source": [
        "# Capital Budgeting Problem"
      ],
      "metadata": {
        "id": "DA5v73UBU52Z"
      }
    },
    {
      "cell_type": "markdown",
      "source": [
        "## 1. Call the Library "
      ],
      "metadata": {
        "id": "UTYLGqbyU9NZ"
      }
    },
    {
      "cell_type": "code",
      "source": [
        "pip install PuLp"
      ],
      "metadata": {
        "colab": {
          "base_uri": "https://localhost:8080/"
        },
        "id": "Js-Mu5EWU_Sx",
        "outputId": "e1e633bf-d14b-4328-8031-263347aa2831"
      },
      "execution_count": 1,
      "outputs": [
        {
          "output_type": "stream",
          "name": "stdout",
          "text": [
            "Looking in indexes: https://pypi.org/simple, https://us-python.pkg.dev/colab-wheels/public/simple/\n",
            "Collecting PuLp\n",
            "  Downloading PuLP-2.6.0-py3-none-any.whl (14.2 MB)\n",
            "\u001b[K     |████████████████████████████████| 14.2 MB 7.2 MB/s \n",
            "\u001b[?25hInstalling collected packages: PuLp\n",
            "Successfully installed PuLp-2.6.0\n"
          ]
        }
      ]
    },
    {
      "cell_type": "code",
      "source": [
        "import pulp as p"
      ],
      "metadata": {
        "id": "GTVVPJoPVCah"
      },
      "execution_count": 2,
      "outputs": []
    },
    {
      "cell_type": "code",
      "source": [
        "from pulp import * "
      ],
      "metadata": {
        "id": "Gut4Be8bVGan"
      },
      "execution_count": 3,
      "outputs": []
    },
    {
      "cell_type": "markdown",
      "source": [
        "## 2. Create Lists/Dictionaries for Input Parameters "
      ],
      "metadata": {
        "id": "iUL7Vq25VYF6"
      }
    },
    {
      "cell_type": "code",
      "source": [
        "Projects = ['Project1', 'Project2', 'Project3', 'Project4', 'Project5', 'Project6']\n",
        "\n",
        "Years = ['Year1', 'Year2', 'Year2', 'Year3', 'Year4', 'Year5']\n",
        "\n",
        "NPV = {'Project1': 141,\n",
        "       'Project2': 187,\n",
        "       'Project3': 121, \n",
        "       'Project4': 83,\n",
        "       'Project5': 256,\n",
        "       'Project6': 127}\n",
        "\n",
        "Capital_Available = {'Year1': 250,\n",
        "                     'Year2': 75,\n",
        "                     'Year3': 50,\n",
        "                     'Year4': 50,\n",
        "                     'Year5': 50}\n",
        "\n",
        "Capital_Required = {'Year1': {'Project1': 75, 'Project2': 90, 'Project3': 60, 'Project4': 30, 'Project5': 100, 'Project6': 50},\n",
        "                      'Year2': {'Project1': 25, 'Project2': 35, 'Project3': 15, 'Project4': 20, 'Project5': 25, 'Project6': 20},\n",
        "                      'Year3': {'Project1': 20, 'Project2': 0, 'Project3': 15, 'Project4': 10, 'Project5': 20, 'Project6': 10},\n",
        "                      'Year4': {'Project1': 15, 'Project2': 0, 'Project3': 15, 'Project4': 5, 'Project5': 20, 'Project6': 30},\n",
        "                      'Year5': {'Project1': 10, 'Project2': 30, 'Project3': 15, 'Project4': 5, 'Project5': 20, 'Project6': 40}} \n",
        "\n",
        "  "
      ],
      "metadata": {
        "id": "xlcBMO59VbwJ"
      },
      "execution_count": 5,
      "outputs": []
    },
    {
      "cell_type": "markdown",
      "source": [
        "## 3. Define Decision Variables "
      ],
      "metadata": {
        "id": "wwWs6lT_X4qH"
      }
    },
    {
      "cell_type": "code",
      "source": [
        "Select_vars = LpVariable.dicts(\"Select?\", Projects, lowBound=0, upBound=None, cat = LpBinary)\n",
        "\n",
        "Budgeting_prob = p.LpProblem(\"Budgeting Problem\", p.LpMaximize)"
      ],
      "metadata": {
        "colab": {
          "base_uri": "https://localhost:8080/"
        },
        "id": "WOBWOtRZX8MH",
        "outputId": "026e16c9-7028-4295-cd83-6ebddfd07715"
      },
      "execution_count": 6,
      "outputs": [
        {
          "output_type": "stream",
          "name": "stderr",
          "text": [
            "/usr/local/lib/python3.7/dist-packages/pulp/pulp.py:1352: UserWarning: Spaces are not permitted in the name. Converted to '_'\n",
            "  warnings.warn(\"Spaces are not permitted in the name. Converted to '_'\")\n"
          ]
        }
      ]
    },
    {
      "cell_type": "markdown",
      "source": [
        "## 4. Objective Function"
      ],
      "metadata": {
        "id": "nVxeaMtOYSTt"
      }
    },
    {
      "cell_type": "code",
      "source": [
        "Budgeting_prob += lpSum(Select_vars[s]*NPV[s] for s in Projects)"
      ],
      "metadata": {
        "id": "Nh89n_N3YXk1"
      },
      "execution_count": 7,
      "outputs": []
    },
    {
      "cell_type": "markdown",
      "source": [
        "## 5. Define the Constraints "
      ],
      "metadata": {
        "id": "Zcz8Na60Y-9I"
      }
    },
    {
      "cell_type": "code",
      "source": [
        "for y in Years:\n",
        "  Budgeting_prob += lpSum(Select_vars[s]*Capital_Required[y][s] for s in Projects)<=Capital_Available[y]"
      ],
      "metadata": {
        "id": "b9p3HbRjZBc8"
      },
      "execution_count": 8,
      "outputs": []
    },
    {
      "cell_type": "markdown",
      "source": [
        "## 6. Display the Problem "
      ],
      "metadata": {
        "id": "XyjOkWtQacdD"
      }
    },
    {
      "cell_type": "code",
      "source": [
        "Budgeting_prob "
      ],
      "metadata": {
        "colab": {
          "base_uri": "https://localhost:8080/"
        },
        "id": "9AJR-zDFahB0",
        "outputId": "1471a6e4-543a-4af3-d5b0-514ecbc26ae9"
      },
      "execution_count": 9,
      "outputs": [
        {
          "output_type": "execute_result",
          "data": {
            "text/plain": [
              "Budgeting_Problem:\n",
              "MAXIMIZE\n",
              "141*Select?_Project1 + 187*Select?_Project2 + 121*Select?_Project3 + 83*Select?_Project4 + 256*Select?_Project5 + 127*Select?_Project6 + 0\n",
              "SUBJECT TO\n",
              "_C1: 75 Select?_Project1 + 90 Select?_Project2 + 60 Select?_Project3\n",
              " + 30 Select?_Project4 + 100 Select?_Project5 + 50 Select?_Project6 <= 250\n",
              "\n",
              "_C2: 25 Select?_Project1 + 35 Select?_Project2 + 15 Select?_Project3\n",
              " + 20 Select?_Project4 + 25 Select?_Project5 + 20 Select?_Project6 <= 75\n",
              "\n",
              "_C3: 25 Select?_Project1 + 35 Select?_Project2 + 15 Select?_Project3\n",
              " + 20 Select?_Project4 + 25 Select?_Project5 + 20 Select?_Project6 <= 75\n",
              "\n",
              "_C4: 20 Select?_Project1 + 15 Select?_Project3 + 10 Select?_Project4\n",
              " + 20 Select?_Project5 + 10 Select?_Project6 <= 50\n",
              "\n",
              "_C5: 15 Select?_Project1 + 15 Select?_Project3 + 5 Select?_Project4\n",
              " + 20 Select?_Project5 + 30 Select?_Project6 <= 50\n",
              "\n",
              "_C6: 10 Select?_Project1 + 30 Select?_Project2 + 15 Select?_Project3\n",
              " + 5 Select?_Project4 + 20 Select?_Project5 + 40 Select?_Project6 <= 50\n",
              "\n",
              "VARIABLES\n",
              "0 <= Select?_Project1 <= 1 Integer\n",
              "0 <= Select?_Project2 <= 1 Integer\n",
              "0 <= Select?_Project3 <= 1 Integer\n",
              "0 <= Select?_Project4 <= 1 Integer\n",
              "0 <= Select?_Project5 <= 1 Integer\n",
              "0 <= Select?_Project6 <= 1 Integer"
            ]
          },
          "metadata": {},
          "execution_count": 9
        }
      ]
    },
    {
      "cell_type": "markdown",
      "source": [
        "## 7. Solve the Problem"
      ],
      "metadata": {
        "id": "9Q-WmFAwajbI"
      }
    },
    {
      "cell_type": "code",
      "source": [
        "status = Budgeting_prob.solve()\n",
        "print(p.LpStatus[status])"
      ],
      "metadata": {
        "colab": {
          "base_uri": "https://localhost:8080/"
        },
        "id": "eJgjc1HpalXv",
        "outputId": "8a05930a-9717-4e20-e189-d353cdbef780"
      },
      "execution_count": 10,
      "outputs": [
        {
          "output_type": "stream",
          "name": "stdout",
          "text": [
            "Optimal\n"
          ]
        }
      ]
    },
    {
      "cell_type": "code",
      "source": [
        "print(\"Total NPV\", p.value(Budgeting_prob.objective))"
      ],
      "metadata": {
        "colab": {
          "base_uri": "https://localhost:8080/"
        },
        "id": "K8uPVdGYa2VV",
        "outputId": "9f6ebf05-ed9c-47f0-dff1-b7734ec3d38b"
      },
      "execution_count": 11,
      "outputs": [
        {
          "output_type": "stream",
          "name": "stdout",
          "text": [
            "Total NPV 480.0\n"
          ]
        }
      ]
    }
  ]
}