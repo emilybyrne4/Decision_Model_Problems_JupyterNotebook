{
  "nbformat": 4,
  "nbformat_minor": 0,
  "metadata": {
    "colab": {
      "provenance": []
    },
    "kernelspec": {
      "name": "python3",
      "display_name": "Python 3"
    },
    "language_info": {
      "name": "python"
    }
  },
  "cells": [
    {
      "cell_type": "markdown",
      "source": [
        "# Blending Problem"
      ],
      "metadata": {
        "id": "byroArgpKjlT"
      }
    },
    {
      "cell_type": "markdown",
      "source": [
        "## 1. Call the Library "
      ],
      "metadata": {
        "id": "_7N5JM1SKncT"
      }
    },
    {
      "cell_type": "code",
      "source": [
        "pip install PuLp"
      ],
      "metadata": {
        "id": "3pRZApWfKmy9"
      },
      "execution_count": null,
      "outputs": []
    },
    {
      "cell_type": "code",
      "source": [
        "import pulp as p"
      ],
      "metadata": {
        "id": "EzJXBNfFRCPo"
      },
      "execution_count": 2,
      "outputs": []
    },
    {
      "cell_type": "code",
      "source": [
        "from pulp import *"
      ],
      "metadata": {
        "id": "1RucVwEwRD8r"
      },
      "execution_count": 3,
      "outputs": []
    },
    {
      "cell_type": "markdown",
      "source": [
        "## 2. Create Lists/Dictionaries for Input Parameters "
      ],
      "metadata": {
        "id": "x2ChtUuzRJqT"
      }
    },
    {
      "cell_type": "code",
      "execution_count": 4,
      "metadata": {
        "id": "0Hedjs0T3kjU"
      },
      "outputs": [],
      "source": [
        "# define lists for Feeds and Nutrients \n",
        "Feeds = ['Feed 1', 'Feed 2', 'Feed 3', 'Feed 4']\n",
        "Nutrients = ['Corn', 'Grain', 'Mineral'] \n",
        "\n",
        "# define nested dictionary for unit costs \n",
        "Unit_Costs = {'Feed 1': 0.25, 'Feed 2': 0.30, 'Feed 3': 0.32, 'Feed 4': 0.15}\n",
        "\n",
        "# define nested dictionary for nutrition \n",
        "Nutrition = {'Corn': {'Feed 1': 0.30, 'Feed 2': 0.05, 'Feed 3': 0.20, 'Feed 4': 0.10},\n",
        "     'Grain': {'Feed 1': 0.10, 'Feed 2': 0.30, 'Feed 3': 0.15, 'Feed 4': 0.10},\n",
        "     'Mineral': {'Feed 1': 0.20, 'Feed 2': 0.20, 'Feed 3': 0.20, 'Feed 4': 0.30}\n",
        "}\n",
        "\n",
        "# define minimum requirements \n",
        "min_req = {'Corn': 0.2, 'Grain': 0.15, 'Mineral': 0.15}"
      ]
    },
    {
      "cell_type": "markdown",
      "source": [
        "## 3. Define Decision Variables"
      ],
      "metadata": {
        "id": "KwwUt50MRV16"
      }
    },
    {
      "cell_type": "code",
      "source": [
        "# define the decision variables \n",
        "Amount = LpVariable.dicts(\"Amount Feed\", (Feeds), lowBound=0, upBound=None, cat = 'Continuous')"
      ],
      "metadata": {
        "id": "wwJJ9nyWRZ16"
      },
      "execution_count": 5,
      "outputs": []
    },
    {
      "cell_type": "markdown",
      "source": [
        "## 4. Objective Function "
      ],
      "metadata": {
        "id": "9szafSY5T3Fm"
      }
    },
    {
      "cell_type": "code",
      "source": [
        "# create a variable to contain the problem data \n",
        "Blending_Prb = p.LpProblem('A Blending Problem', p.LpMinimize)\n",
        "\n",
        "# define objective function \n",
        "Blending_Prb += lpSum(Amount[f]*Unit_Costs[f] for f in Feeds)"
      ],
      "metadata": {
        "id": "SqJyH_FzT6iz"
      },
      "execution_count": null,
      "outputs": []
    },
    {
      "cell_type": "markdown",
      "source": [
        "## 5. Define the Constraints "
      ],
      "metadata": {
        "id": "VXYJ27cOUo78"
      }
    },
    {
      "cell_type": "code",
      "source": [
        "# define constraints \n",
        "for n in Nutrition:\n",
        "  Blending_Prb += lpSum(Amount[f]*Nutrition[n][f] for f in Feeds) >= min_req[n]\n",
        "\n",
        "Blending_Prb += lpSum(Amount[f]for f in Feeds) == 8000"
      ],
      "metadata": {
        "id": "whNHXM0dUtcH"
      },
      "execution_count": 8,
      "outputs": []
    },
    {
      "cell_type": "markdown",
      "source": [
        "## 6. Display the Problem "
      ],
      "metadata": {
        "id": "ZOkegl2XWDTx"
      }
    },
    {
      "cell_type": "code",
      "source": [
        "Blending_Prb"
      ],
      "metadata": {
        "id": "gdioj94kWBw8"
      },
      "execution_count": null,
      "outputs": []
    },
    {
      "cell_type": "markdown",
      "source": [
        "## 7. Solve the Problem"
      ],
      "metadata": {
        "id": "khRWnqFpWHcZ"
      }
    },
    {
      "cell_type": "code",
      "source": [
        "# Print Status \n",
        "status = Blending_Prb.solve()\n",
        "print(p.LpStatus[status])"
      ],
      "metadata": {
        "id": "CDyvIYOEWKAe"
      },
      "execution_count": null,
      "outputs": []
    },
    {
      "cell_type": "code",
      "source": [
        "# Print the Solution \n",
        "print(\"Total Cost\", p.value(Blending_Prb.objective))"
      ],
      "metadata": {
        "id": "T3QQ0k4fWOfl"
      },
      "execution_count": null,
      "outputs": []
    },
    {
      "cell_type": "code",
      "source": [
        "for v in Blending_Prb.variables():\n",
        "  print(v.name, \"=\", v.varValue)"
      ],
      "metadata": {
        "id": "2wJuNPsyWTVG"
      },
      "execution_count": null,
      "outputs": []
    }
  ]
}