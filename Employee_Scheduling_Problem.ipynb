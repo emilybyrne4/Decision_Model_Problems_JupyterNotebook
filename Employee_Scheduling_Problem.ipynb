{
  "nbformat": 4,
  "nbformat_minor": 0,
  "metadata": {
    "colab": {
      "provenance": []
    },
    "kernelspec": {
      "name": "python3",
      "display_name": "Python 3"
    },
    "language_info": {
      "name": "python"
    }
  },
  "cells": [
    {
      "cell_type": "markdown",
      "source": [
        "# Employee Scheduling Problem "
      ],
      "metadata": {
        "id": "QXHSDMGjiqsV"
      }
    },
    {
      "cell_type": "markdown",
      "source": [
        "## 1. Call the Library "
      ],
      "metadata": {
        "id": "c51W5MIRiyVV"
      }
    },
    {
      "cell_type": "code",
      "source": [
        "pip install PuLp"
      ],
      "metadata": {
        "colab": {
          "base_uri": "https://localhost:8080/"
        },
        "id": "wCtyNQTPjBQO",
        "outputId": "42689bd7-341d-42b3-80f4-13e961cfe978"
      },
      "execution_count": 1,
      "outputs": [
        {
          "output_type": "stream",
          "name": "stdout",
          "text": [
            "Looking in indexes: https://pypi.org/simple, https://us-python.pkg.dev/colab-wheels/public/simple/\n",
            "Collecting PuLp\n",
            "  Downloading PuLP-2.6.0-py3-none-any.whl (14.2 MB)\n",
            "\u001b[K     |████████████████████████████████| 14.2 MB 7.2 MB/s \n",
            "\u001b[?25hInstalling collected packages: PuLp\n",
            "Successfully installed PuLp-2.6.0\n"
          ]
        }
      ]
    },
    {
      "cell_type": "code",
      "source": [
        "import pulp as p"
      ],
      "metadata": {
        "id": "1bcepssRi4v_"
      },
      "execution_count": 2,
      "outputs": []
    },
    {
      "cell_type": "code",
      "source": [
        "from pulp import *"
      ],
      "metadata": {
        "id": "tPFqeY98i7GL"
      },
      "execution_count": 3,
      "outputs": []
    },
    {
      "cell_type": "markdown",
      "source": [
        "## 2. Create Lists/Dictionaries for Input Parameters "
      ],
      "metadata": {
        "id": "xU-1l3u-i-qC"
      }
    },
    {
      "cell_type": "code",
      "source": [
        "# Create a list of days \n",
        "Days = ['Sunday', 'Monday', 'Tuesday', 'Wednesday', 'Thursday', 'Friday', 'Saturday']\n",
        "\n",
        "# Create a list of all the possible shifts \n",
        "Shifts = ['Shift1', 'Shift2', 'Shift3', 'Shift4', 'Shift5', 'Shift6', 'Shift7']\n",
        "\n",
        "# Create a dictionary for the minimum number of workers for each day \n",
        "Workers_Needed = {'Sunday': 18, \n",
        "                  'Monday': 27, \n",
        "                  'Tuesday': 22, \n",
        "                  'Wednesday': 26, \n",
        "                  'Thursday': 25, \n",
        "                  'Friday': 21, \n",
        "                  'Saturday': 19}\n",
        "\n",
        "# Create a dictionary for the wage per shift \n",
        "Wages = {'Shift1': 680, \n",
        "          'Shift2': 705, \n",
        "          'Shift3': 705, \n",
        "          'Shift4': 705, \n",
        "          'Shift5': 705, \n",
        "          'Shift6': 680, \n",
        "          'Shift7': 655}\n",
        "\n",
        "# Create a dictionary for the days off \n",
        "Daysoff = {'Sunday': {'Shift1': 0, 'Shift2': 1, 'Shift3': 1, 'Shift4': 1, 'Shift5': 1, 'Shift6': 1, 'Shift7': 0}, \n",
        "            'Monday': {'Shift1': 0, 'Shift2': 0, 'Shift3': 1, 'Shift4': 1, 'Shift5': 1, 'Shift6': 1, 'Shift7': 1}, \n",
        "            'Tuesday': {'Shift1': 1, 'Shift2': 0, 'Shift3': 0, 'Shift4': 1, 'Shift5': 1, 'Shift6': 1, 'Shift7': 1}, \n",
        "            'Wednesday': {'Shift1': 1, 'Shift2': 1, 'Shift3': 0, 'Shift4': 0, 'Shift5': 1, 'Shift6': 1, 'Shift7': 1}, \n",
        "            'Thursday': {'Shift1': 1, 'Shift2': 1, 'Shift3': 1, 'Shift4': 0, 'Shift5': 0, 'Shift6': 1, 'Shift7': 1}, \n",
        "            'Friday': {'Shift1': 1, 'Shift2': 1, 'Shift3': 1, 'Shift4': 1, 'Shift5': 0, 'Shift6': 0, 'Shift7': 1}, \n",
        "            'Saturday': {'Shift1': 1, 'Shift2': 1, 'Shift3': 1, 'Shift4': 1, 'Shift5': 1, 'Shift6': 0, 'Shift7': 0}}"
      ],
      "metadata": {
        "id": "BZockajpjO7o"
      },
      "execution_count": 4,
      "outputs": []
    },
    {
      "cell_type": "markdown",
      "source": [
        "## 3. Define Decision Variables "
      ],
      "metadata": {
        "id": "gbw1yq9WGHs4"
      }
    },
    {
      "cell_type": "code",
      "source": [
        "# Define Decision Variable: Number of workers assigned to each shift \n",
        "\n",
        "Shifts_vars = LpVariable.dicts(\"Workers\", Shifts, lowBound= 0, upBound= None, cat = LpInteger)\n",
        "\n",
        "# Create a variable that contains the problem information \n",
        "Scheduling_prob = p.LpProblem(\"Scheduling Problem\", p.LpMinimize)"
      ],
      "metadata": {
        "colab": {
          "base_uri": "https://localhost:8080/"
        },
        "id": "dyrRkgbGGMZZ",
        "outputId": "231bbe84-d61e-4428-dc5b-a3b3932c2e0b"
      },
      "execution_count": 5,
      "outputs": [
        {
          "output_type": "stream",
          "name": "stderr",
          "text": [
            "/usr/local/lib/python3.7/dist-packages/pulp/pulp.py:1352: UserWarning: Spaces are not permitted in the name. Converted to '_'\n",
            "  warnings.warn(\"Spaces are not permitted in the name. Converted to '_'\")\n"
          ]
        }
      ]
    },
    {
      "cell_type": "markdown",
      "source": [
        "## 4. Objective Function"
      ],
      "metadata": {
        "id": "JU0moDnsHEZM"
      }
    },
    {
      "cell_type": "code",
      "source": [
        "# Define the Objective Function: Minimize the total hiring cost \n",
        "Scheduling_prob += lpSum(Shifts_vars[s]*Wages[s] for s in Shifts)"
      ],
      "metadata": {
        "id": "r8Jcp6p5HM3D"
      },
      "execution_count": 6,
      "outputs": []
    },
    {
      "cell_type": "markdown",
      "source": [
        "## 5. Define the Constraints "
      ],
      "metadata": {
        "id": "TzdT95D8HfBR"
      }
    },
    {
      "cell_type": "code",
      "source": [
        "# Constraints to reflect the minimum number of workers needed in each day \n",
        "for d in Days:\n",
        "  Scheduling_prob += lpSum(Shifts_vars[s]*Daysoff[d][s] for s in Shifts)>=Workers_Needed[d]"
      ],
      "metadata": {
        "id": "njd46tyhHiBa"
      },
      "execution_count": 7,
      "outputs": []
    },
    {
      "cell_type": "markdown",
      "source": [
        "##. 6. Display the Problem "
      ],
      "metadata": {
        "id": "PKtdmbx2HlBX"
      }
    },
    {
      "cell_type": "code",
      "source": [
        "Scheduling_prob"
      ],
      "metadata": {
        "colab": {
          "base_uri": "https://localhost:8080/"
        },
        "id": "ThSDf3IkHnOs",
        "outputId": "13bd1495-f144-462f-e5a5-8a62eff47515"
      },
      "execution_count": 8,
      "outputs": [
        {
          "output_type": "execute_result",
          "data": {
            "text/plain": [
              "Scheduling_Problem:\n",
              "MINIMIZE\n",
              "680*Workers_Shift1 + 705*Workers_Shift2 + 705*Workers_Shift3 + 705*Workers_Shift4 + 705*Workers_Shift5 + 680*Workers_Shift6 + 655*Workers_Shift7 + 0\n",
              "SUBJECT TO\n",
              "_C1: Workers_Shift2 + Workers_Shift3 + Workers_Shift4 + Workers_Shift5\n",
              " + Workers_Shift6 >= 18\n",
              "\n",
              "_C2: Workers_Shift3 + Workers_Shift4 + Workers_Shift5 + Workers_Shift6\n",
              " + Workers_Shift7 >= 27\n",
              "\n",
              "_C3: Workers_Shift1 + Workers_Shift4 + Workers_Shift5 + Workers_Shift6\n",
              " + Workers_Shift7 >= 22\n",
              "\n",
              "_C4: Workers_Shift1 + Workers_Shift2 + Workers_Shift5 + Workers_Shift6\n",
              " + Workers_Shift7 >= 26\n",
              "\n",
              "_C5: Workers_Shift1 + Workers_Shift2 + Workers_Shift3 + Workers_Shift6\n",
              " + Workers_Shift7 >= 25\n",
              "\n",
              "_C6: Workers_Shift1 + Workers_Shift2 + Workers_Shift3 + Workers_Shift4\n",
              " + Workers_Shift7 >= 21\n",
              "\n",
              "_C7: Workers_Shift1 + Workers_Shift2 + Workers_Shift3 + Workers_Shift4\n",
              " + Workers_Shift5 >= 19\n",
              "\n",
              "VARIABLES\n",
              "0 <= Workers_Shift1 Integer\n",
              "0 <= Workers_Shift2 Integer\n",
              "0 <= Workers_Shift3 Integer\n",
              "0 <= Workers_Shift4 Integer\n",
              "0 <= Workers_Shift5 Integer\n",
              "0 <= Workers_Shift6 Integer\n",
              "0 <= Workers_Shift7 Integer"
            ]
          },
          "metadata": {},
          "execution_count": 8
        }
      ]
    },
    {
      "cell_type": "markdown",
      "source": [
        "## 7. Solve the Problem "
      ],
      "metadata": {
        "id": "BUbzR-HOH4Sw"
      }
    },
    {
      "cell_type": "code",
      "source": [
        "status = Scheduling_prob.solve()\n",
        "print(p.LpStatus[status])"
      ],
      "metadata": {
        "colab": {
          "base_uri": "https://localhost:8080/"
        },
        "id": "BbSaOPt4H63f",
        "outputId": "252490f3-75ac-4fc6-cff6-e33b0931a38b"
      },
      "execution_count": 10,
      "outputs": [
        {
          "output_type": "stream",
          "name": "stdout",
          "text": [
            "Optimal\n"
          ]
        }
      ]
    },
    {
      "cell_type": "code",
      "source": [
        "print(\"Total Hiring Cost\", p.value(Scheduling_prob.objective))"
      ],
      "metadata": {
        "colab": {
          "base_uri": "https://localhost:8080/"
        },
        "id": "MW8MuOeMKNzv",
        "outputId": "934b3ef4-00a4-48b1-f548-c9a9ec5d89ea"
      },
      "execution_count": 11,
      "outputs": [
        {
          "output_type": "stream",
          "name": "stdout",
          "text": [
            "Total Hiring Cost 22540.0\n"
          ]
        }
      ]
    },
    {
      "cell_type": "code",
      "source": [
        "for v in Scheduling_prob.variables():\n",
        "  print(v.name, \"=\", v.varValue, \"Workers to Hire\")\n"
      ],
      "metadata": {
        "colab": {
          "base_uri": "https://localhost:8080/"
        },
        "id": "wrzRZEO4KUif",
        "outputId": "44d72309-7925-4f9f-9922-b17788044580"
      },
      "execution_count": 12,
      "outputs": [
        {
          "output_type": "stream",
          "name": "stdout",
          "text": [
            "Workers_Shift1 = 6.0 Workers to Hire\n",
            "Workers_Shift2 = 0.0 Workers to Hire\n",
            "Workers_Shift3 = 7.0 Workers to Hire\n",
            "Workers_Shift4 = 0.0 Workers to Hire\n",
            "Workers_Shift5 = 6.0 Workers to Hire\n",
            "Workers_Shift6 = 5.0 Workers to Hire\n",
            "Workers_Shift7 = 9.0 Workers to Hire\n"
          ]
        }
      ]
    }
  ]
}
