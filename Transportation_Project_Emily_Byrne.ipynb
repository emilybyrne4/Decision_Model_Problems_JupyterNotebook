{
  "nbformat": 4,
  "nbformat_minor": 0,
  "metadata": {
    "colab": {
      "provenance": []
    },
    "kernelspec": {
      "name": "python3",
      "display_name": "Python 3"
    },
    "language_info": {
      "name": "python"
    }
  },
  "cells": [
    {
      "cell_type": "markdown",
      "source": [
        "# Transportation Problem"
      ],
      "metadata": {
        "id": "rOUD56pyQL_4"
      }
    },
    {
      "cell_type": "markdown",
      "source": [
        "## 1. Call the Library"
      ],
      "metadata": {
        "id": "z1k4cp2yQRN-"
      }
    },
    {
      "cell_type": "code",
      "source": [
        "pip install PuLp"
      ],
      "metadata": {
        "colab": {
          "base_uri": "https://localhost:8080/"
        },
        "id": "YIA4ZnwpQUgu",
        "outputId": "72b60147-8e75-487d-dca5-35e1f7ded95f"
      },
      "execution_count": null,
      "outputs": [
        {
          "output_type": "stream",
          "name": "stdout",
          "text": [
            "Looking in indexes: https://pypi.org/simple, https://us-python.pkg.dev/colab-wheels/public/simple/\n",
            "Requirement already satisfied: PuLp in /usr/local/lib/python3.7/dist-packages (2.6.0)\n"
          ]
        }
      ]
    },
    {
      "cell_type": "code",
      "source": [
        "import pulp as p "
      ],
      "metadata": {
        "id": "4zR3ld9dQQYz"
      },
      "execution_count": null,
      "outputs": []
    },
    {
      "cell_type": "code",
      "execution_count": null,
      "metadata": {
        "id": "Iqa0vVGjGYC4"
      },
      "outputs": [],
      "source": [
        "from pulp import *"
      ]
    },
    {
      "cell_type": "markdown",
      "source": [
        "## 2. Create Lists/Dictionaries for Input Parameters"
      ],
      "metadata": {
        "id": "Aly4gYdTRvQQ"
      }
    },
    {
      "cell_type": "code",
      "source": [
        "# define lists for the plants and markets \n",
        "Plants = ['Romania', 'Poland', 'Ireland']\n",
        "Markets = ['France', 'Germany', 'Italy', 'Spain', 'United_Kingdom']\n",
        "\n",
        "# define a nested dictionary for unit transportation cost\n",
        "Costs = {'Romania': {'France': 23, 'Germany' : 9, 'Italy' : 23, 'Spain' : 29, 'United_Kingdom' : 33},\n",
        "              'Poland' : {'France': 19, 'Germany' : 15, 'Italy' : 21, 'Spain' : 26, 'United_Kingdom' : 36},\n",
        "              'Ireland' : {'France': 31, 'Germany' : 11, 'Italy' : 40, 'Spain' : 40, 'United_Kingdom' : 20}\n",
        "              }\n",
        "\n",
        "# define dictionaries for supply and demand \n",
        "Supply = {'Romania' : 80000, 'Poland' : 80000, 'Ireland' : 80000}\n",
        "Demand = {'France' : 15000, 'Germany' : 20000, 'Italy' : 13000, 'Spain' : 12000, 'United_Kingdom' : 19000}"
      ],
      "metadata": {
        "id": "3310NPgLR0Aa"
      },
      "execution_count": null,
      "outputs": []
    },
    {
      "cell_type": "markdown",
      "source": [
        "## 3. Define Decision Variables"
      ],
      "metadata": {
        "id": "v_-Jwp85TTm9"
      }
    },
    {
      "cell_type": "code",
      "source": [
        "# define the decision variables \n",
        "Flow = LpVariable.dicts(\"Amount Ship\", (Plants, Markets), lowBound=0, upBound=None, cat = 'Continuous') "
      ],
      "metadata": {
        "id": "z2dj9i1aTZHY"
      },
      "execution_count": null,
      "outputs": []
    },
    {
      "cell_type": "markdown",
      "source": [
        "## 4. Objective Function "
      ],
      "metadata": {
        "id": "h0rmHF_BU2aa"
      }
    },
    {
      "cell_type": "code",
      "source": [
        "# create a variable to contain the problem data \n",
        "Transportation_Prb = p.LpProblem('Dell Transportation Problem', p.LpMinimize)\n",
        "\n",
        "# define objective function \n",
        "Transportation_Prb += lpSum(Flow[i][j]*Costs[i][j] for i in Plants for j in Markets) "
      ],
      "metadata": {
        "id": "oWG3HkKWU4_o"
      },
      "execution_count": null,
      "outputs": []
    },
    {
      "cell_type": "markdown",
      "source": [
        "## 5. Define the Constraints"
      ],
      "metadata": {
        "id": "bceSzQ-eVoxG"
      }
    },
    {
      "cell_type": "code",
      "source": [
        "# supply constraints \n",
        "# i = Romania \n",
        "## Flow['Romania'][j] where j = 'France', 'Germany', 'Italy', 'Spain', 'United_Kingdom'\n",
        "\n",
        "for i in Plants:\n",
        "  Transportation_Prb += lpSum(Flow[i][j] for j in Markets) <= Supply[i]\n",
        "\n",
        "# demand constraints \n",
        "\n",
        "for j in Markets:\n",
        "  Transportation_Prb += lpSum(Flow[i][j] for i in Plants) == Demand[j]"
      ],
      "metadata": {
        "id": "ntXUv-PzVrP_"
      },
      "execution_count": null,
      "outputs": []
    },
    {
      "cell_type": "markdown",
      "source": [
        "## 6. Display the Problem"
      ],
      "metadata": {
        "id": "IlFUzz0a_4xZ"
      }
    },
    {
      "cell_type": "code",
      "source": [
        "Transportation_Prb"
      ],
      "metadata": {
        "id": "RKPiwCIj_7EB"
      },
      "execution_count": null,
      "outputs": []
    },
    {
      "cell_type": "markdown",
      "source": [
        "## 7. Solve the Problem "
      ],
      "metadata": {
        "id": "0NuH_ETMABek"
      }
    },
    {
      "cell_type": "code",
      "source": [
        "# Print Status \n",
        "status = Transportation_Prb.solve()\n",
        "print(p.LpStatus[status])"
      ],
      "metadata": {
        "id": "mZehWBiHAELP"
      },
      "execution_count": null,
      "outputs": []
    },
    {
      "cell_type": "code",
      "source": [
        "# Print the Solution \n",
        "print(\"Total Cost\", p.value(Transportation_Prb.objective))"
      ],
      "metadata": {
        "colab": {
          "base_uri": "https://localhost:8080/"
        },
        "id": "lC22nlC1AOhU",
        "outputId": "c9531d9c-1881-456e-8a5d-bff8d5917bf9"
      },
      "execution_count": null,
      "outputs": [
        {
          "output_type": "stream",
          "name": "stdout",
          "text": [
            "Total Cost 1430000.0\n"
          ]
        }
      ]
    },
    {
      "cell_type": "code",
      "source": [
        "for v in Transportation_Prb.variables():\n",
        "  print(v.name, \"=\", v.varValue)"
      ],
      "metadata": {
        "colab": {
          "base_uri": "https://localhost:8080/"
        },
        "id": "Vcoa-30kFjzV",
        "outputId": "7ef1598c-b6a1-4eaa-cc52-db80d81130c4"
      },
      "execution_count": 64,
      "outputs": [
        {
          "output_type": "stream",
          "name": "stdout",
          "text": [
            "Amount_Ship_Ireland_France = 0.0\n",
            "Amount_Ship_Ireland_Germany = 0.0\n",
            "Amount_Ship_Ireland_Italy = 0.0\n",
            "Amount_Ship_Ireland_Spain = 0.0\n",
            "Amount_Ship_Ireland_United_Kingdom = 19000.0\n",
            "Amount_Ship_Poland_France = 15000.0\n",
            "Amount_Ship_Poland_Germany = 0.0\n",
            "Amount_Ship_Poland_Italy = 13000.0\n",
            "Amount_Ship_Poland_Spain = 12000.0\n",
            "Amount_Ship_Poland_United_Kingdom = 0.0\n",
            "Amount_Ship_Romania_France = 0.0\n",
            "Amount_Ship_Romania_Germany = 20000.0\n",
            "Amount_Ship_Romania_Italy = 0.0\n",
            "Amount_Ship_Romania_Spain = 0.0\n",
            "Amount_Ship_Romania_United_Kingdom = 0.0\n"
          ]
        }
      ]
    }
  ]
}