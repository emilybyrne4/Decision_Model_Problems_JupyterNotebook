{
  "nbformat": 4,
  "nbformat_minor": 0,
  "metadata": {
    "colab": {
      "provenance": []
    },
    "kernelspec": {
      "name": "python3",
      "display_name": "Python 3"
    },
    "language_info": {
      "name": "python"
    }
  },
  "cells": [
    {
      "cell_type": "markdown",
      "source": [
        "## Project Management Problem "
      ],
      "metadata": {
        "id": "5qug5FRZjbQu"
      }
    },
    {
      "cell_type": "markdown",
      "source": [
        "## 1. Call the Library "
      ],
      "metadata": {
        "id": "CbMEynNujd-9"
      }
    },
    {
      "cell_type": "code",
      "execution_count": 1,
      "metadata": {
        "colab": {
          "base_uri": "https://localhost:8080/"
        },
        "id": "R-7gbbfvjTpl",
        "outputId": "271e4b32-66fb-40a8-b5d2-a49023494588"
      },
      "outputs": [
        {
          "output_type": "stream",
          "name": "stdout",
          "text": [
            "Looking in indexes: https://pypi.org/simple, https://us-python.pkg.dev/colab-wheels/public/simple/\n",
            "Collecting PuLp\n",
            "  Downloading PuLP-2.7.0-py3-none-any.whl (14.3 MB)\n",
            "\u001b[K     |████████████████████████████████| 14.3 MB 7.1 MB/s \n",
            "\u001b[?25hInstalling collected packages: PuLp\n",
            "Successfully installed PuLp-2.7.0\n"
          ]
        }
      ],
      "source": [
        "pip install PuLp "
      ]
    },
    {
      "cell_type": "code",
      "source": [
        "import pulp as p "
      ],
      "metadata": {
        "id": "K6he7BDojaFf"
      },
      "execution_count": 2,
      "outputs": []
    },
    {
      "cell_type": "code",
      "source": [
        "from pulp import * "
      ],
      "metadata": {
        "id": "Kk9FZwvjjkCH"
      },
      "execution_count": 3,
      "outputs": []
    },
    {
      "cell_type": "markdown",
      "source": [
        "## 2. Create Lists/Dictionaries for Input Parameters "
      ],
      "metadata": {
        "id": "zmp-eEOUjm0P"
      }
    },
    {
      "cell_type": "code",
      "source": [
        "Activities = ['ActivityA', 'ActivityB', 'ActivityC', 'ActivityD', 'ActivityE', 'ActivityF', 'ActivityG', 'ActivityH', 'ActivityI', 'ActivityJ', 'ActivityK', 'ActivityL', 'ActivityM']\n",
        "\n",
        "Normal_Time = {'ActivityA' : 3, \n",
        "              'ActivityB' : 4, \n",
        "              'ActivityC' : 3, \n",
        "              'ActivityD' : 10, \n",
        "              'ActivityE' : 8, \n",
        "              'ActivityF' : 4, \n",
        "              'ActivityG' : 6, \n",
        "              'ActivityH' : 8, \n",
        "              'ActivityI' : 5, \n",
        "              'ActivityJ' : 5, \n",
        "              'ActivityK' : 4, \n",
        "              'ActivityL' : 2, \n",
        "              'ActivityM' : 4\n",
        "               }\n",
        "\n",
        "Arcs = [('ActivityA', 'ActivityB'), ('ActivityB', 'ActivityC'), ('ActivityB', 'ActivityD'), ('ActivityC', 'ActivityH'), ('ActivityD', 'ActivityE'), ('ActivityD', 'ActivityF'), ('ActivityD', 'ActivityG'), ('ActivityE', 'ActivityH'), ('ActivityF', 'ActivityH'), ('ActivityG', 'ActivityH'), ('ActivityH', 'ActivityI'), ('ActivityH', 'ActivityJ'), ('ActivityI', 'ActivityK'), ('ActivityJ', 'ActivityL'), ('ActivityK', 'ActivityM'), ('ActivityL', 'ActivityM')]"
      ],
      "metadata": {
        "id": "A1YdAHUSjqjT"
      },
      "execution_count": 12,
      "outputs": []
    },
    {
      "cell_type": "markdown",
      "source": [
        "## 3. Define Decision Variables "
      ],
      "metadata": {
        "id": "T02-ZVFDjrHv"
      }
    },
    {
      "cell_type": "code",
      "source": [
        "Start = LpVariable.dicts(\"Start_Time\", Activities, lowBound=0, upBound=None, cat = LpContinuous)"
      ],
      "metadata": {
        "id": "9Scki-lcjuGU"
      },
      "execution_count": 13,
      "outputs": []
    },
    {
      "cell_type": "markdown",
      "source": [
        "## 4. Define the Problem "
      ],
      "metadata": {
        "id": "ESsVSMlJjuVL"
      }
    },
    {
      "cell_type": "code",
      "source": [
        "Project_Management_Prob = p.LpProblem(\"Project Management Problem\", p.LpMinimize)"
      ],
      "metadata": {
        "id": "ITb21d2BjyK4"
      },
      "execution_count": null,
      "outputs": []
    },
    {
      "cell_type": "markdown",
      "source": [
        "## 5. Define Objective Function "
      ],
      "metadata": {
        "id": "YWDToRycjynZ"
      }
    },
    {
      "cell_type": "code",
      "source": [
        "Project_Management_Prob += Start['ActivityM'] + Normal_Time['ActivityM']"
      ],
      "metadata": {
        "id": "PjDivWgwj16H"
      },
      "execution_count": 15,
      "outputs": []
    },
    {
      "cell_type": "markdown",
      "source": [
        "## 6. Define Constraints "
      ],
      "metadata": {
        "id": "eiVFSHnXj2lK"
      }
    },
    {
      "cell_type": "code",
      "source": [
        "for (o, d) in Arcs:\n",
        "  Project_Management_Prob += Start[o] + Normal_Time[o] <= Start[d]"
      ],
      "metadata": {
        "id": "viUmKC5zj4mA"
      },
      "execution_count": 16,
      "outputs": []
    },
    {
      "cell_type": "markdown",
      "source": [
        "## 7. Display the Problem "
      ],
      "metadata": {
        "id": "LL6KHh_Uj5Eq"
      }
    },
    {
      "cell_type": "code",
      "source": [
        "Project_Management_Prob"
      ],
      "metadata": {
        "colab": {
          "base_uri": "https://localhost:8080/"
        },
        "id": "NXonnkhgj72f",
        "outputId": "e00bad25-dbce-4373-c05f-aac9ef0a06b5"
      },
      "execution_count": 17,
      "outputs": [
        {
          "output_type": "execute_result",
          "data": {
            "text/plain": [
              "Project_Management_Problem:\n",
              "MINIMIZE\n",
              "1*Start_Time_ActivityM + 4\n",
              "SUBJECT TO\n",
              "_C1: Start_Time_ActivityA - Start_Time_ActivityB <= -3\n",
              "\n",
              "_C2: Start_Time_ActivityB - Start_Time_ActivityC <= -4\n",
              "\n",
              "_C3: Start_Time_ActivityB - Start_Time_ActivityD <= -4\n",
              "\n",
              "_C4: Start_Time_ActivityC - Start_Time_ActivityH <= -3\n",
              "\n",
              "_C5: Start_Time_ActivityD - Start_Time_ActivityE <= -10\n",
              "\n",
              "_C6: Start_Time_ActivityD - Start_Time_ActivityF <= -10\n",
              "\n",
              "_C7: Start_Time_ActivityD - Start_Time_ActivityG <= -10\n",
              "\n",
              "_C8: Start_Time_ActivityE - Start_Time_ActivityH <= -8\n",
              "\n",
              "_C9: Start_Time_ActivityF - Start_Time_ActivityH <= -4\n",
              "\n",
              "_C10: Start_Time_ActivityG - Start_Time_ActivityH <= -6\n",
              "\n",
              "_C11: Start_Time_ActivityH - Start_Time_ActivityI <= -8\n",
              "\n",
              "_C12: Start_Time_ActivityH - Start_Time_ActivityJ <= -8\n",
              "\n",
              "_C13: Start_Time_ActivityI - Start_Time_ActivityK <= -5\n",
              "\n",
              "_C14: Start_Time_ActivityJ - Start_Time_ActivityL <= -5\n",
              "\n",
              "_C15: Start_Time_ActivityK - Start_Time_ActivityM <= -4\n",
              "\n",
              "_C16: Start_Time_ActivityL - Start_Time_ActivityM <= -2\n",
              "\n",
              "VARIABLES\n",
              "Start_Time_ActivityA Continuous\n",
              "Start_Time_ActivityB Continuous\n",
              "Start_Time_ActivityC Continuous\n",
              "Start_Time_ActivityD Continuous\n",
              "Start_Time_ActivityE Continuous\n",
              "Start_Time_ActivityF Continuous\n",
              "Start_Time_ActivityG Continuous\n",
              "Start_Time_ActivityH Continuous\n",
              "Start_Time_ActivityI Continuous\n",
              "Start_Time_ActivityJ Continuous\n",
              "Start_Time_ActivityK Continuous\n",
              "Start_Time_ActivityL Continuous\n",
              "Start_Time_ActivityM Continuous"
            ]
          },
          "metadata": {},
          "execution_count": 17
        }
      ]
    },
    {
      "cell_type": "markdown",
      "source": [
        "## 8. Solve the Problem "
      ],
      "metadata": {
        "id": "30WKLHdaj8a5"
      }
    },
    {
      "cell_type": "code",
      "source": [
        "status = Project_Management_Prob.solve()\n",
        "print(p.LpStatus[status])"
      ],
      "metadata": {
        "colab": {
          "base_uri": "https://localhost:8080/"
        },
        "id": "HlGOLovFj-11",
        "outputId": "7aa1386f-b906-4ce4-f02c-37634b01ea7b"
      },
      "execution_count": 18,
      "outputs": [
        {
          "output_type": "stream",
          "name": "stdout",
          "text": [
            "Optimal\n"
          ]
        }
      ]
    },
    {
      "cell_type": "code",
      "source": [
        "print(\"Finish Time\", p.value(Project_Management_Prob.objective))"
      ],
      "metadata": {
        "colab": {
          "base_uri": "https://localhost:8080/"
        },
        "id": "6dt9Wk2g34Nd",
        "outputId": "7ff7d28d-e255-41d2-828d-0c156c570f68"
      },
      "execution_count": 19,
      "outputs": [
        {
          "output_type": "stream",
          "name": "stdout",
          "text": [
            "Finish Time 46.0\n"
          ]
        }
      ]
    }
  ]
}
