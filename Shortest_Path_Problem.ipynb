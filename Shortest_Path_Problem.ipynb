{
  "nbformat": 4,
  "nbformat_minor": 0,
  "metadata": {
    "colab": {
      "provenance": []
    },
    "kernelspec": {
      "name": "python3",
      "display_name": "Python 3"
    },
    "language_info": {
      "name": "python"
    }
  },
  "cells": [
    {
      "cell_type": "markdown",
      "source": [
        "# Shortest Path Problem "
      ],
      "metadata": {
        "id": "PgfzeLDBeGd-"
      }
    },
    {
      "cell_type": "markdown",
      "source": [
        "## 1. Call the Library "
      ],
      "metadata": {
        "id": "X0iNR-0veKGH"
      }
    },
    {
      "cell_type": "code",
      "execution_count": null,
      "metadata": {
        "colab": {
          "base_uri": "https://localhost:8080/"
        },
        "id": "wXXENFA5cr2i",
        "outputId": "4226b890-d3de-4b00-e1e2-9f3b63e7bce6"
      },
      "outputs": [
        {
          "output_type": "stream",
          "name": "stdout",
          "text": [
            "Looking in indexes: https://pypi.org/simple, https://us-python.pkg.dev/colab-wheels/public/simple/\n",
            "Collecting PuLp\n",
            "  Downloading PuLP-2.7.0-py3-none-any.whl (14.3 MB)\n",
            "\u001b[K     |████████████████████████████████| 14.3 MB 7.8 MB/s \n",
            "\u001b[?25hInstalling collected packages: PuLp\n",
            "Successfully installed PuLp-2.7.0\n"
          ]
        }
      ],
      "source": [
        "pip install PuLp"
      ]
    },
    {
      "cell_type": "code",
      "source": [
        "import pulp as p"
      ],
      "metadata": {
        "id": "t2pr34oleOJF"
      },
      "execution_count": null,
      "outputs": []
    },
    {
      "cell_type": "code",
      "source": [
        "from pulp import * "
      ],
      "metadata": {
        "id": "Ov4E67-9eQC7"
      },
      "execution_count": null,
      "outputs": []
    },
    {
      "cell_type": "markdown",
      "source": [
        "## 2. Create Lists/Didctionaries for Input Parameters "
      ],
      "metadata": {
        "id": "48jg8J0keUCd"
      }
    },
    {
      "cell_type": "code",
      "source": [
        "Nodes = ['Bham', 'Atlanta', 'Chat', 'Gville', 'Kville', 'Aville', 'Charl', 'Gboro', 'Lburg', 'Raleigh', 'Va_Bch']\n",
        "Arcs = [('Bham', 'Atlanta'), ('Bham', 'Chat'), ('Atlanta', 'Chat'), ('Atlanta', 'Gville'), ('Chat', 'Kville'), ('Chat', 'Aville'), ('Gville', 'Aville'), ('Gville', 'Charl'), ('Kville', 'Aville'), ('Kville', 'Lburg'), ('Aville', 'Gboro'), ('Aville', 'Lburg'), ('Charl', 'Gboro'), ('Charl', 'Raleigh'), ('Gboro', 'Lburg'), ('Gboro', 'Raleigh'),('Lburg', 'Va_Bch'), ('Raleigh', 'Va_bch')]\n",
        "\n",
        "Supply_Demand = {'Bham' : -1,\n",
        "                 'Atlanta' : 0,\n",
        "                 'Chat' : 0,\n",
        "                 'Gville' : 0,\n",
        "                 'Kville' : 0,\n",
        "                 'Aville' : 0,\n",
        "                 'Charl' : 0,\n",
        "                 'Gboro' : 0,\n",
        "                 'Lburg' : 0,\n",
        "                 'Raleigh' : 0,\n",
        "                 'Va_bch' : 1\n",
        "                 }\n",
        "\n",
        "Time = {('Bham', 'Atlanta') : 2.5,\n",
        "        ('Bham', 'Chat') : 3, \n",
        "        ('Atlanta', 'Chat') : 1.7, \n",
        "        ('Atlanta', 'Gville') : 2.5,\n",
        "        ('Chat', 'Kville') : 1.7, \n",
        "        ('Chat', 'Aville') : 2.8, \n",
        "        ('Gville', 'Aville') : 2, \n",
        "        ('Gville', 'Charl') : 1.5, \n",
        "        ('Kville', 'Aville') : 2, \n",
        "        ('Kville', 'Lburg') : 5, \n",
        "        ('Aville', 'Gboro') : 3, \n",
        "        ('Aville', 'Lburg') : 4.7, \n",
        "        ('Charl', 'Gboro') : 1.5, \n",
        "        ('Charl', 'Raleigh') : 2.3,\n",
        "        ('Gboro', 'Lburg') : 2, \n",
        "        ('Gboro', 'Raleigh') : 1.1,\n",
        "        ('Lburg', 'Va_Bch') : 3.3, \n",
        "        ('Raleigh', 'Va_bch') : 2.7\n",
        "        }"
      ],
      "metadata": {
        "id": "i5QBJDT1eXl6"
      },
      "execution_count": null,
      "outputs": []
    },
    {
      "cell_type": "markdown",
      "source": [
        "## 3. Define Decision Variables "
      ],
      "metadata": {
        "id": "IL-D8KSzhFMg"
      }
    },
    {
      "cell_type": "code",
      "source": [
        "Number_of_Trips = LpVariable.dicts(\"Number\", Arcs, lowBound=0, upBound=None, cat = LpContinuous)"
      ],
      "metadata": {
        "id": "jqnzUbYXhIq2"
      },
      "execution_count": null,
      "outputs": []
    },
    {
      "cell_type": "markdown",
      "source": [
        "## 4. Define the Problem "
      ],
      "metadata": {
        "id": "F8qmTcmyhTbD"
      }
    },
    {
      "cell_type": "code",
      "source": [
        "Shortest_Path_Prob = p.LpProblem(\"Shortest_Path_Problem\", p.LpMinimize)"
      ],
      "metadata": {
        "id": "Djge2f-thWY6"
      },
      "execution_count": null,
      "outputs": []
    },
    {
      "cell_type": "markdown",
      "source": [
        "## 5. Define the Objective Function "
      ],
      "metadata": {
        "id": "emyq7JXHhdiP"
      }
    },
    {
      "cell_type": "code",
      "source": [
        "Total_Time = p.lpSum(Number_of_Trips[a]*Time[a] for a in Arcs)"
      ],
      "metadata": {
        "id": "Za85Mf3Khgl6"
      },
      "execution_count": null,
      "outputs": []
    },
    {
      "cell_type": "markdown",
      "source": [
        "## 6. Define the Constraints"
      ],
      "metadata": {
        "id": "ZexpTKZBhtqO"
      }
    },
    {
      "cell_type": "code",
      "source": [
        "for (o, d) in Arcs:\n",
        "  Shortest_Path_Prob += lpSum(Number_of_Trips[(o, d)]*Time[a] if Nodes == [(d)] else 0 for a in Arcs) - lpSum(Number_of_Trips[(o, d)]*Time[a] if Nodes == [(d)] else 0] for a in Arcs) <= Supply_Demand"
      ],
      "metadata": {
        "id": "rUJ1QL69hvnG"
      },
      "execution_count": null,
      "outputs": []
    },
    {
      "cell_type": "markdown",
      "source": [
        "## 7. Display the Problem "
      ],
      "metadata": {
        "id": "2q8u_rObh9H9"
      }
    },
    {
      "cell_type": "code",
      "source": [
        "Shortest_Path_Prob"
      ],
      "metadata": {
        "id": "ZBM_oovRh_8v"
      },
      "execution_count": null,
      "outputs": []
    },
    {
      "cell_type": "markdown",
      "source": [
        "## 8. Solve the Problem "
      ],
      "metadata": {
        "id": "vkciKhHWiDjG"
      }
    },
    {
      "cell_type": "code",
      "source": [
        "status = Shortest_Path_Prob.solve()\n",
        "print(p.LpStatus[status])"
      ],
      "metadata": {
        "colab": {
          "base_uri": "https://localhost:8080/"
        },
        "id": "9e44SSO_iGKh",
        "outputId": "7b73b84c-4508-4def-f26f-cac36d4debef"
      },
      "execution_count": null,
      "outputs": [
        {
          "output_type": "stream",
          "name": "stdout",
          "text": [
            "Optimal\n"
          ]
        }
      ]
    },
    {
      "cell_type": "code",
      "source": [
        "print(\"Total Travel Time\", p.value(Shortest_Path_Prob.objective))"
      ],
      "metadata": {
        "id": "Gd4N0jO7iH5j"
      },
      "execution_count": null,
      "outputs": []
    }
  ]
}
