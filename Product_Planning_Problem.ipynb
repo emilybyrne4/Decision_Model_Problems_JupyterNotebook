{
  "nbformat": 4,
  "nbformat_minor": 0,
  "metadata": {
    "colab": {
      "provenance": []
    },
    "kernelspec": {
      "name": "python3",
      "display_name": "Python 3"
    },
    "language_info": {
      "name": "python"
    }
  },
  "cells": [
    {
      "cell_type": "markdown",
      "source": [
        "# Production Planning Problem"
      ],
      "metadata": {
        "id": "TkfinvoWbW2X"
      }
    },
    {
      "cell_type": "markdown",
      "source": [
        "## 1. Call the Library"
      ],
      "metadata": {
        "id": "mO5q0A5JbZ4n"
      }
    },
    {
      "cell_type": "code",
      "execution_count": 1,
      "metadata": {
        "colab": {
          "base_uri": "https://localhost:8080/"
        },
        "id": "Xz2481CXayKm",
        "outputId": "841f0b0d-8493-4179-c230-15304dafafdb"
      },
      "outputs": [
        {
          "output_type": "stream",
          "name": "stdout",
          "text": [
            "Looking in indexes: https://pypi.org/simple, https://us-python.pkg.dev/colab-wheels/public/simple/\n",
            "Collecting PuLp\n",
            "  Downloading PuLP-2.7.0-py3-none-any.whl (14.3 MB)\n",
            "\u001b[K     |████████████████████████████████| 14.3 MB 476 kB/s \n",
            "\u001b[?25hInstalling collected packages: PuLp\n",
            "Successfully installed PuLp-2.7.0\n"
          ]
        }
      ],
      "source": [
        "pip install PuLp "
      ]
    },
    {
      "cell_type": "code",
      "source": [
        "import pulp as p"
      ],
      "metadata": {
        "id": "zX9s7zhxbgWa"
      },
      "execution_count": 3,
      "outputs": []
    },
    {
      "cell_type": "code",
      "source": [
        "from pulp import *"
      ],
      "metadata": {
        "id": "iXw6Cek5bqhX"
      },
      "execution_count": 4,
      "outputs": []
    },
    {
      "cell_type": "markdown",
      "source": [
        "## 2. Create Lists/Dictionaries for Input Parameters "
      ],
      "metadata": {
        "id": "A7mOZ_oGbtaw"
      }
    },
    {
      "cell_type": "code",
      "source": [
        "Months = ['Month1' 'Month2', 'Month3', 'Month4', 'Month5', 'Month6']\n",
        "\n",
        "Unit_Production_Cost = {'Month1' : 240,\n",
        "                        'Month2' : 250, \n",
        "                        'Month3' : 265, \n",
        "                        'Month4' : 285, \n",
        "                        'Month5' : 280, \n",
        "                        'Month6' : 260\n",
        "                        }\n",
        "\n",
        "Unit_Holding_Cost = {'Month1' : 3.68,\n",
        "                     'Month2' : 3.75, \n",
        "                     'Month3' : 3.98, \n",
        "                     'Month4' : 4.28, \n",
        "                     'Month5' : 4.20, \n",
        "                     'Month6' : 3.90\n",
        "                    }\n",
        "\n",
        "Demand = {'Month1' : 1000,\n",
        "          'Month2' : 4500, \n",
        "          'Month3' : 6000, \n",
        "          'Month4' : 5500, \n",
        "          'Month5' : 3500, \n",
        "          'Month6' : 4000\n",
        "          }\n",
        "\n",
        "Max_Production = {'Month1' : 4000,\n",
        "                  'Month2' : 3500, \n",
        "                  'Month3' : 4000, \n",
        "                  'Month4' : 4500, \n",
        "                  'Month5' : 4000, \n",
        "                  'Month6' : 3500\n",
        "                 }\n",
        "\n",
        "Min_Production = {'Month1' : 2000,\n",
        "                  'Month2' : 1750, \n",
        "                  'Month3' : 2000, \n",
        "                  'Month4' : 2250, \n",
        "                  'Month5' : 2000, \n",
        "                  'Month6' : 1750\n",
        "                 }\n",
        "\n",
        "Beginning_Inventory = {'Month1' : 2750,\n",
        "                       'Month2' : 5750, \n",
        "                       'Month3' : 4750, \n",
        "                       'Month4' : 2750, \n",
        "                       'Month5' : 1500, \n",
        "                       'Month6' : 2000}\n",
        "\n",
        "Safety_Stock = {'Month1' : 1500,\n",
        "                'Month2' : 1500, \n",
        "                'Month3' : 1500, \n",
        "                'Month4' : 1500, \n",
        "                'Month5' : 1500, \n",
        "                'Month6' : 1500}"
      ],
      "metadata": {
        "id": "ZVOG-RaUbyhb"
      },
      "execution_count": 9,
      "outputs": []
    },
    {
      "cell_type": "markdown",
      "source": [
        "## 3. Define Decision Variables "
      ],
      "metadata": {
        "id": "g7FUMM8HimbG"
      }
    },
    {
      "cell_type": "code",
      "source": [
        "Units = LpVariable.dicts(\"Amount Produced\", Demand, lowBound=0, upBound=None, cat = 'continuous')"
      ],
      "metadata": {
        "id": "A67BNy7BiqUu"
      },
      "execution_count": 6,
      "outputs": []
    },
    {
      "cell_type": "markdown",
      "source": [
        "## 4. Define Problem"
      ],
      "metadata": {
        "id": "EOKyUKxDiqpk"
      }
    },
    {
      "cell_type": "code",
      "source": [
        "Product_Planning_Prob = p.LpProblem(\"Production Planning Problem\", p.LpMinimize)"
      ],
      "metadata": {
        "id": "MtBtxWNVizV1"
      },
      "execution_count": null,
      "outputs": []
    },
    {
      "cell_type": "markdown",
      "source": [
        "## 5. Define Objective Variables"
      ],
      "metadata": {
        "id": "d_YlVbiOiz6T"
      }
    },
    {
      "cell_type": "code",
      "source": [
        "Product_Planning_Prob += lpSum(Units[i]*Unit_Production_Cost[i] for i in Demand)"
      ],
      "metadata": {
        "id": "7tgaFZdbi3f0"
      },
      "execution_count": 8,
      "outputs": []
    },
    {
      "cell_type": "markdown",
      "source": [
        "## 6. Define Constraints"
      ],
      "metadata": {
        "id": "-nAeyHZUi328"
      }
    },
    {
      "cell_type": "code",
      "source": [
        "Product_Planning_Prob += lpSum(Units[i] for i in Demand) <= Max_Production[i]\n",
        "Product_Planning_Prob += lpSum(Units[i] for i in Demand) >= Min_Production[i]"
      ],
      "metadata": {
        "id": "S6-9mi8AjEEf"
      },
      "execution_count": null,
      "outputs": []
    },
    {
      "cell_type": "markdown",
      "source": [
        "## 7. Display the Problem "
      ],
      "metadata": {
        "id": "YBsjXlRBjEqJ"
      }
    },
    {
      "cell_type": "code",
      "source": [
        "Product_Planning_Prob"
      ],
      "metadata": {
        "id": "CtcxltBDjHvx"
      },
      "execution_count": null,
      "outputs": []
    },
    {
      "cell_type": "markdown",
      "source": [
        "## 8. Solve the Problem "
      ],
      "metadata": {
        "id": "jxzy88_RjIeN"
      }
    },
    {
      "cell_type": "code",
      "source": [
        "status = Product_Planning_Prob.solve()\n",
        "print(p.LpStatus[status])"
      ],
      "metadata": {
        "id": "X7URDSSYjKLd",
        "colab": {
          "base_uri": "https://localhost:8080/"
        },
        "outputId": "33ba7490-9cb5-4e3f-cfe6-25d168bddeae"
      },
      "execution_count": 13,
      "outputs": [
        {
          "output_type": "stream",
          "name": "stdout",
          "text": [
            "Optimal\n"
          ]
        }
      ]
    },
    {
      "cell_type": "code",
      "source": [
        "print(\"Total Cost\", p.value(Product_Planning_Prob.objective))"
      ],
      "metadata": {
        "id": "D5bGAoNScxFH"
      },
      "execution_count": null,
      "outputs": []
    }
  ]
}
