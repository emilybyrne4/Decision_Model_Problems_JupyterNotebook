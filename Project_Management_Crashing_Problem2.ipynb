{
  "nbformat": 4,
  "nbformat_minor": 0,
  "metadata": {
    "colab": {
      "provenance": []
    },
    "kernelspec": {
      "name": "python3",
      "display_name": "Python 3"
    },
    "language_info": {
      "name": "python"
    }
  },
  "cells": [
    {
      "cell_type": "markdown",
      "source": [
        "# Project Management Crashing Problem 2"
      ],
      "metadata": {
        "id": "OPZfqaHwstbL"
      }
    },
    {
      "cell_type": "markdown",
      "source": [
        "## 1. Call Library "
      ],
      "metadata": {
        "id": "bEJ74_ofs2OD"
      }
    },
    {
      "cell_type": "code",
      "execution_count": 1,
      "metadata": {
        "colab": {
          "base_uri": "https://localhost:8080/"
        },
        "id": "1uEWD02Zsl3Z",
        "outputId": "36795e25-1551-46bb-c671-0fc6328ca592"
      },
      "outputs": [
        {
          "output_type": "stream",
          "name": "stdout",
          "text": [
            "Looking in indexes: https://pypi.org/simple, https://us-python.pkg.dev/colab-wheels/public/simple/\n",
            "Requirement already satisfied: PuLp in /usr/local/lib/python3.7/dist-packages (2.7.0)\n"
          ]
        }
      ],
      "source": [
        "pip install PuLp"
      ]
    },
    {
      "cell_type": "code",
      "source": [
        "import pulp as p"
      ],
      "metadata": {
        "id": "NjtcA3gPs5ta"
      },
      "execution_count": 2,
      "outputs": []
    },
    {
      "cell_type": "code",
      "source": [
        "from pulp import *"
      ],
      "metadata": {
        "id": "2m3z6LMNs7zu"
      },
      "execution_count": 3,
      "outputs": []
    },
    {
      "cell_type": "markdown",
      "source": [
        "## 2. Create Lists/Dictionaries for Input Parameters "
      ],
      "metadata": {
        "id": "FFSjPFQSs1aQ"
      }
    },
    {
      "cell_type": "code",
      "source": [
        "Activities = ['ActivityA', 'ActivityB', 'ActivityC', 'ActivityD', 'ActivityE', 'ActivityF', 'ActivityG', 'ActivityH', 'ActivityI', 'ActivityJ', 'ActivityK', 'ActivityL', 'ActivityM']\n",
        "\n",
        "Normal_Time = {'ActivityA' : 3, \n",
        "              'ActivityB' : 4, \n",
        "              'ActivityC' : 3, \n",
        "              'ActivityD' : 10, \n",
        "              'ActivityE' : 8, \n",
        "              'ActivityF' : 4, \n",
        "              'ActivityG' : 6, \n",
        "              'ActivityH' : 8, \n",
        "              'ActivityI' : 5, \n",
        "              'ActivityJ' : 5, \n",
        "              'ActivityK' : 4, \n",
        "              'ActivityL' : 2, \n",
        "              'ActivityM' : 4\n",
        "               }\n",
        "\n",
        "Arcs = [('ActivityA', 'ActivityB'), ('ActivityB', 'ActivityC'), ('ActivityB', 'ActivityD'), ('ActivityC', 'ActivityH'), ('ActivityD', 'ActivityE'), ('ActivityD', 'ActivityF'), ('ActivityD', 'ActivityG'), ('ActivityE', 'ActivityH'), ('ActivityF', 'ActivityH'), ('ActivityG', 'ActivityH'), ('ActivityH', 'ActivityI'), ('ActivityH', 'ActivityJ'), ('ActivityI', 'ActivityK'), ('ActivityJ', 'ActivityL'), ('ActivityK', 'ActivityM'), ('ActivityL', 'ActivityM')]\n",
        "\n",
        "Crash_Time = {'ActivityA' : 2, \n",
        "              'ActivityB' : 3, \n",
        "              'ActivityC' : 2, \n",
        "              'ActivityD' : 6, \n",
        "              'ActivityE' : 5, \n",
        "              'ActivityF' : 3, \n",
        "              'ActivityG' : 4, \n",
        "              'ActivityH' : 5, \n",
        "              'ActivityI' : 3, \n",
        "              'ActivityJ' : 2, \n",
        "              'ActivityK' : 2, \n",
        "              'ActivityL' : 1, \n",
        "              'ActivityM' : 2\n",
        "               }\n",
        "\n",
        "Allowable_Crash_Days = {'ActivityA' : 1, \n",
        "                        'ActivityB' : 1, \n",
        "                        'ActivityC' : 1, \n",
        "                        'ActivityD' : 4, \n",
        "                        'ActivityE' : 3, \n",
        "                        'ActivityF' : 1, \n",
        "                        'ActivityG' : 2, \n",
        "                        'ActivityH' : 3, \n",
        "                        'ActivityI' : 2, \n",
        "                        'ActivityJ' : 3, \n",
        "                        'ActivityK' : 2, \n",
        "                        'ActivityL' : 1, \n",
        "                        'ActivityM' : 2\n",
        "                        }\n",
        "\n",
        "Crash_Cost_Day = {'ActivityA' : 1000, \n",
        "                  'ActivityB' : 3000, \n",
        "                  'ActivityC' : 500, \n",
        "                  'ActivityD' : 1250, \n",
        "                  'ActivityE' : 666.67, \n",
        "                  'ActivityF' : 1000, \n",
        "                  'ActivityG' : 500, \n",
        "                  'ActivityH' : 500, \n",
        "                  'ActivityI' : 750, \n",
        "                  'ActivityJ' : 500, \n",
        "                  'ActivityK' : 750, \n",
        "                  'ActivityL' : 500, \n",
        "                  'ActivityM' : 1000\n",
        "                  }"
      ],
      "metadata": {
        "id": "lhZzTTYqtDOf"
      },
      "execution_count": 4,
      "outputs": []
    },
    {
      "cell_type": "markdown",
      "source": [
        "## 3. Define Decision Variables "
      ],
      "metadata": {
        "id": "576-JN70tGit"
      }
    },
    {
      "cell_type": "code",
      "source": [
        "Start = LpVariable.dicts(\"Start_Time\", Activities, lowBound=0, upBound=None, cat = LpContinuous)\n",
        "Crash = LpVariable.dicts(\"Crash_Time\", Activities, lowBound=0, upBound=None, cat = LpContinuous)"
      ],
      "metadata": {
        "id": "0Wo1sNWntKjh"
      },
      "execution_count": 5,
      "outputs": []
    },
    {
      "cell_type": "markdown",
      "source": [
        "## 4. Define Problem "
      ],
      "metadata": {
        "id": "IXORK9mgtMnN"
      }
    },
    {
      "cell_type": "code",
      "source": [
        "Project_Management_Crashing_Prob2 = p.LpProblem(\"Project Management Crashing Problem2\", p.LpMinimize)"
      ],
      "metadata": {
        "colab": {
          "base_uri": "https://localhost:8080/"
        },
        "id": "z-HUqSy3tO_g",
        "outputId": "965da4fe-c5cf-4eac-bfd4-4f4b398abc4f"
      },
      "execution_count": 6,
      "outputs": [
        {
          "output_type": "stream",
          "name": "stderr",
          "text": [
            "/usr/local/lib/python3.7/dist-packages/pulp/pulp.py:1352: UserWarning: Spaces are not permitted in the name. Converted to '_'\n",
            "  warnings.warn(\"Spaces are not permitted in the name. Converted to '_'\")\n"
          ]
        }
      ]
    },
    {
      "cell_type": "markdown",
      "source": [
        "## 5. Define Objective Function "
      ],
      "metadata": {
        "id": "OFy9gZKftRUN"
      }
    },
    {
      "cell_type": "code",
      "source": [
        "Project_Management_Crashing_Prob2 += lpSum(Crash[x]*Crash_Cost_Day[x] for x in Activities)"
      ],
      "metadata": {
        "id": "OfwjyfwztUF-"
      },
      "execution_count": 7,
      "outputs": []
    },
    {
      "cell_type": "markdown",
      "source": [
        "## 6. Define Constraints "
      ],
      "metadata": {
        "id": "lasEervutUam"
      }
    },
    {
      "cell_type": "code",
      "source": [
        "for x in Activities:\n",
        "  Project_Management_Crashing_Prob2 += Crash[x] <= Allowable_Crash_Days[x] \n",
        "\n",
        "for (o, d) in Arcs:\n",
        "  Project_Management_Crashing_Prob2 += Start[o] + Normal_Time[o] - Crash[o] <= Start[d]\n",
        "\n",
        "Project_Management_Crashing_Prob2 += lpSum(Start['ActivityM'] + Normal_Time['ActivityM'] - Crash['ActivityM']) <= 44"
      ],
      "metadata": {
        "id": "laTCypmStWcD"
      },
      "execution_count": 12,
      "outputs": []
    },
    {
      "cell_type": "markdown",
      "source": [
        "## 7. Display Problem "
      ],
      "metadata": {
        "id": "dgTwYAdutW-b"
      }
    },
    {
      "cell_type": "code",
      "source": [
        "Project_Management_Crashing_Prob2"
      ],
      "metadata": {
        "colab": {
          "base_uri": "https://localhost:8080/"
        },
        "id": "NkBfiGYttY_s",
        "outputId": "d972a188-ca8a-4e01-f193-4855d6a2e733"
      },
      "execution_count": 13,
      "outputs": [
        {
          "output_type": "execute_result",
          "data": {
            "text/plain": [
              "Project_Management_Crashing_Problem2:\n",
              "MINIMIZE\n",
              "1000*Crash_Time_ActivityA + 3000*Crash_Time_ActivityB + 500*Crash_Time_ActivityC + 1250*Crash_Time_ActivityD + 666.67*Crash_Time_ActivityE + 1000*Crash_Time_ActivityF + 500*Crash_Time_ActivityG + 500*Crash_Time_ActivityH + 750*Crash_Time_ActivityI + 500*Crash_Time_ActivityJ + 750*Crash_Time_ActivityK + 500*Crash_Time_ActivityL + 1000*Crash_Time_ActivityM + 0.0\n",
              "SUBJECT TO\n",
              "_C1: Crash_Time_ActivityA <= 1\n",
              "\n",
              "_C2: Crash_Time_ActivityB <= 1\n",
              "\n",
              "_C3: Crash_Time_ActivityC <= 1\n",
              "\n",
              "_C4: Crash_Time_ActivityD <= 4\n",
              "\n",
              "_C5: Crash_Time_ActivityE <= 3\n",
              "\n",
              "_C6: Crash_Time_ActivityF <= 1\n",
              "\n",
              "_C7: Crash_Time_ActivityG <= 2\n",
              "\n",
              "_C8: Crash_Time_ActivityH <= 3\n",
              "\n",
              "_C9: Crash_Time_ActivityI <= 2\n",
              "\n",
              "_C10: Crash_Time_ActivityJ <= 3\n",
              "\n",
              "_C11: Crash_Time_ActivityK <= 2\n",
              "\n",
              "_C12: Crash_Time_ActivityL <= 1\n",
              "\n",
              "_C13: Crash_Time_ActivityM <= 2\n",
              "\n",
              "_C14: Start_Time_ActivityA - Start_Time_ActivityB <= -2\n",
              "\n",
              "_C15: Start_Time_ActivityB - Start_Time_ActivityC <= -3\n",
              "\n",
              "_C16: Start_Time_ActivityB - Start_Time_ActivityD <= -3\n",
              "\n",
              "_C17: Start_Time_ActivityC - Start_Time_ActivityH <= -2\n",
              "\n",
              "_C18: Start_Time_ActivityD - Start_Time_ActivityE <= -6\n",
              "\n",
              "_C19: Start_Time_ActivityD - Start_Time_ActivityF <= -6\n",
              "\n",
              "_C20: Start_Time_ActivityD - Start_Time_ActivityG <= -6\n",
              "\n",
              "_C21: Start_Time_ActivityE - Start_Time_ActivityH <= -5\n",
              "\n",
              "_C22: Start_Time_ActivityF - Start_Time_ActivityH <= -3\n",
              "\n",
              "_C23: Start_Time_ActivityG - Start_Time_ActivityH <= -4\n",
              "\n",
              "_C24: Start_Time_ActivityH - Start_Time_ActivityI <= -5\n",
              "\n",
              "_C25: Start_Time_ActivityH - Start_Time_ActivityJ <= -5\n",
              "\n",
              "_C26: Start_Time_ActivityI - Start_Time_ActivityK <= -3\n",
              "\n",
              "_C27: Start_Time_ActivityJ - Start_Time_ActivityL <= -2\n",
              "\n",
              "_C28: Start_Time_ActivityK - Start_Time_ActivityM <= -2\n",
              "\n",
              "_C29: Start_Time_ActivityL - Start_Time_ActivityM <= -1\n",
              "\n",
              "_C30: - Crash_Time_ActivityM + Start_Time_ActivityM <= 42\n",
              "\n",
              "_C31: Crash_Time_ActivityA <= 1\n",
              "\n",
              "_C32: Crash_Time_ActivityB <= 1\n",
              "\n",
              "_C33: Crash_Time_ActivityC <= 1\n",
              "\n",
              "_C34: Crash_Time_ActivityD <= 4\n",
              "\n",
              "_C35: Crash_Time_ActivityE <= 3\n",
              "\n",
              "_C36: Crash_Time_ActivityF <= 1\n",
              "\n",
              "_C37: Crash_Time_ActivityG <= 2\n",
              "\n",
              "_C38: Crash_Time_ActivityH <= 3\n",
              "\n",
              "_C39: Crash_Time_ActivityI <= 2\n",
              "\n",
              "_C40: Crash_Time_ActivityJ <= 3\n",
              "\n",
              "_C41: Crash_Time_ActivityK <= 2\n",
              "\n",
              "_C42: Crash_Time_ActivityL <= 1\n",
              "\n",
              "_C43: Crash_Time_ActivityM <= 2\n",
              "\n",
              "_C44: - Crash_Time_ActivityA + Start_Time_ActivityA - Start_Time_ActivityB\n",
              " <= -3\n",
              "\n",
              "_C45: - Crash_Time_ActivityB + Start_Time_ActivityB - Start_Time_ActivityC\n",
              " <= -4\n",
              "\n",
              "_C46: - Crash_Time_ActivityB + Start_Time_ActivityB - Start_Time_ActivityD\n",
              " <= -4\n",
              "\n",
              "_C47: - Crash_Time_ActivityC + Start_Time_ActivityC - Start_Time_ActivityH\n",
              " <= -3\n",
              "\n",
              "_C48: - Crash_Time_ActivityD + Start_Time_ActivityD - Start_Time_ActivityE\n",
              " <= -10\n",
              "\n",
              "_C49: - Crash_Time_ActivityD + Start_Time_ActivityD - Start_Time_ActivityF\n",
              " <= -10\n",
              "\n",
              "_C50: - Crash_Time_ActivityD + Start_Time_ActivityD - Start_Time_ActivityG\n",
              " <= -10\n",
              "\n",
              "_C51: - Crash_Time_ActivityE + Start_Time_ActivityE - Start_Time_ActivityH\n",
              " <= -8\n",
              "\n",
              "_C52: - Crash_Time_ActivityF + Start_Time_ActivityF - Start_Time_ActivityH\n",
              " <= -4\n",
              "\n",
              "_C53: - Crash_Time_ActivityG + Start_Time_ActivityG - Start_Time_ActivityH\n",
              " <= -6\n",
              "\n",
              "_C54: - Crash_Time_ActivityH + Start_Time_ActivityH - Start_Time_ActivityI\n",
              " <= -8\n",
              "\n",
              "_C55: - Crash_Time_ActivityH + Start_Time_ActivityH - Start_Time_ActivityJ\n",
              " <= -8\n",
              "\n",
              "_C56: - Crash_Time_ActivityI + Start_Time_ActivityI - Start_Time_ActivityK\n",
              " <= -5\n",
              "\n",
              "_C57: - Crash_Time_ActivityJ + Start_Time_ActivityJ - Start_Time_ActivityL\n",
              " <= -5\n",
              "\n",
              "_C58: - Crash_Time_ActivityK + Start_Time_ActivityK - Start_Time_ActivityM\n",
              " <= -4\n",
              "\n",
              "_C59: - Crash_Time_ActivityL + Start_Time_ActivityL - Start_Time_ActivityM\n",
              " <= -2\n",
              "\n",
              "_C60: - Crash_Time_ActivityM + Start_Time_ActivityM <= 40\n",
              "\n",
              "VARIABLES\n",
              "Crash_Time_ActivityA Continuous\n",
              "Crash_Time_ActivityB Continuous\n",
              "Crash_Time_ActivityC Continuous\n",
              "Crash_Time_ActivityD Continuous\n",
              "Crash_Time_ActivityE Continuous\n",
              "Crash_Time_ActivityF Continuous\n",
              "Crash_Time_ActivityG Continuous\n",
              "Crash_Time_ActivityH Continuous\n",
              "Crash_Time_ActivityI Continuous\n",
              "Crash_Time_ActivityJ Continuous\n",
              "Crash_Time_ActivityK Continuous\n",
              "Crash_Time_ActivityL Continuous\n",
              "Crash_Time_ActivityM Continuous\n",
              "Start_Time_ActivityA Continuous\n",
              "Start_Time_ActivityB Continuous\n",
              "Start_Time_ActivityC Continuous\n",
              "Start_Time_ActivityD Continuous\n",
              "Start_Time_ActivityE Continuous\n",
              "Start_Time_ActivityF Continuous\n",
              "Start_Time_ActivityG Continuous\n",
              "Start_Time_ActivityH Continuous\n",
              "Start_Time_ActivityI Continuous\n",
              "Start_Time_ActivityJ Continuous\n",
              "Start_Time_ActivityK Continuous\n",
              "Start_Time_ActivityL Continuous\n",
              "Start_Time_ActivityM Continuous"
            ]
          },
          "metadata": {},
          "execution_count": 13
        }
      ]
    },
    {
      "cell_type": "markdown",
      "source": [
        "## 8. Solve Problem "
      ],
      "metadata": {
        "id": "NwMGXp4YtZUW"
      }
    },
    {
      "cell_type": "code",
      "source": [
        "status = Project_Management_Crashing_Prob2.solve()\n",
        "print(p.LpStatus[status])"
      ],
      "metadata": {
        "colab": {
          "base_uri": "https://localhost:8080/"
        },
        "id": "VZcRPVgjtcHT",
        "outputId": "a9e4f03b-e743-4c48-9982-802801dddc38"
      },
      "execution_count": 14,
      "outputs": [
        {
          "output_type": "stream",
          "name": "stdout",
          "text": [
            "Optimal\n"
          ]
        }
      ]
    },
    {
      "cell_type": "code",
      "source": [
        "print(\"Total Crash Cost\", p.value(Project_Management_Crashing_Prob2.objective))"
      ],
      "metadata": {
        "colab": {
          "base_uri": "https://localhost:8080/"
        },
        "id": "mSKX83m8tmPJ",
        "outputId": "66f4d055-a503-403a-8d29-17343bdd79db"
      },
      "execution_count": 15,
      "outputs": [
        {
          "output_type": "stream",
          "name": "stdout",
          "text": [
            "Total Crash Cost 1000.0\n"
          ]
        }
      ]
    }
  ]
}