{
  "nbformat": 4,
  "nbformat_minor": 0,
  "metadata": {
    "colab": {
      "provenance": []
    },
    "kernelspec": {
      "name": "python3",
      "display_name": "Python 3"
    },
    "language_info": {
      "name": "python"
    }
  },
  "cells": [
    {
      "cell_type": "markdown",
      "source": [
        "# Make vs. Buy"
      ],
      "metadata": {
        "id": "8sebASD3BM79"
      }
    },
    {
      "cell_type": "markdown",
      "source": [
        "## 1. Call the Library"
      ],
      "metadata": {
        "id": "v0SJmEII-OIu"
      }
    },
    {
      "cell_type": "code",
      "execution_count": 1,
      "metadata": {
        "colab": {
          "base_uri": "https://localhost:8080/"
        },
        "id": "Xj5S6HHdtW0H",
        "outputId": "5403814c-39f2-43b8-c417-d521ff976e1a"
      },
      "outputs": [
        {
          "output_type": "stream",
          "name": "stdout",
          "text": [
            "Looking in indexes: https://pypi.org/simple, https://us-python.pkg.dev/colab-wheels/public/simple/\n",
            "Requirement already satisfied: PuLp in /usr/local/lib/python3.7/dist-packages (2.6.0)\n"
          ]
        }
      ],
      "source": [
        "pip install PuLp "
      ]
    },
    {
      "cell_type": "code",
      "source": [
        "import pulp as p"
      ],
      "metadata": {
        "id": "uwX2yeyu-dW0"
      },
      "execution_count": 2,
      "outputs": []
    },
    {
      "cell_type": "code",
      "source": [
        "from pulp import * "
      ],
      "metadata": {
        "id": "mpddEBPb-tfM"
      },
      "execution_count": 3,
      "outputs": []
    },
    {
      "cell_type": "markdown",
      "source": [
        "## 2. Define Lists/Disctionaries for the Input Parameters "
      ],
      "metadata": {
        "id": "KH_ripAS-zV-"
      }
    },
    {
      "cell_type": "code",
      "source": [
        "# Create a list of the Models \n",
        "Models = [ 'Model1', 'Model2', 'Model3']\n",
        "\n",
        "# Create a dictionary for the unit cost to make for each model \n",
        "Cost_Make = {'Model1':50, \n",
        "             'Model2':83, \n",
        "             'Model3':130}\n",
        "\n",
        "# Create a Dictionary for the unit cost to BUY for each model \n",
        "Cost_Buy = {'Model1':61, \n",
        "            'Model2':97, \n",
        "            'Model3':145}\n",
        "\n",
        "# Create a dictionary for the number of units ordered for each model \n",
        "Number_Ordered = {'Model1':3000, \n",
        "                  'Model2':2000, \n",
        "                  'Model3':900}\n",
        "\n",
        "# Create a dictionary for the wiring hours per unit for each model \n",
        "Hours_Wiring = {'Model1':2, \n",
        "                'Model2':1.5, \n",
        "                'Model3':3}\n",
        "\n",
        "# Create a dictionary for the harnessing hours per unit for each model \n",
        "Hours_Harnessing = {'Model1':1, \n",
        "                    'Model2':2, \n",
        "                    'Model3':1}\n",
        "\n",
        "# Wiring Capacity \n",
        "Wiring_Capacity = 10000\n",
        "\n",
        "#Harnessing Capacity \n",
        "Harnessing_Capacity = 5000\n",
        "  "
      ],
      "metadata": {
        "id": "6XbYMAFX-yWD"
      },
      "execution_count": 4,
      "outputs": []
    },
    {
      "cell_type": "markdown",
      "source": [
        "## 3. Define Decision Variables "
      ],
      "metadata": {
        "id": "f_5eufArBEui"
      }
    },
    {
      "cell_type": "code",
      "source": [
        "# Define a dictionary for M1, M2, M3\n",
        "Make_Variables = LpVariable.dicts(\"M\", Models, lowBound=0, upBound=None, cat='Continuous')\n",
        "\n",
        "# Define a dictionary for B1, B2, B3 \n",
        "Buy_Variables = LpVariable.dicts(\"B\", Models, lowBound=0, upBound=None, cat='Continuous')"
      ],
      "metadata": {
        "id": "_fEe42w7BDd-"
      },
      "execution_count": 5,
      "outputs": []
    },
    {
      "cell_type": "markdown",
      "source": [
        "## 4. Objective Function "
      ],
      "metadata": {
        "id": "ICwKd4rOCnSD"
      }
    },
    {
      "cell_type": "code",
      "source": [
        "Make_vs_Buy = p.LpProblem( 'Make vs Buy Problem', p.LpMinimize)"
      ],
      "metadata": {
        "colab": {
          "base_uri": "https://localhost:8080/"
        },
        "id": "lNOEyx48CVPs",
        "outputId": "abbb8818-3d4c-46d3-a7fc-1aba82b21610"
      },
      "execution_count": 6,
      "outputs": [
        {
          "output_type": "stream",
          "name": "stderr",
          "text": [
            "/usr/local/lib/python3.7/dist-packages/pulp/pulp.py:1352: UserWarning: Spaces are not permitted in the name. Converted to '_'\n",
            "  warnings.warn(\"Spaces are not permitted in the name. Converted to '_'\")\n"
          ]
        }
      ]
    },
    {
      "cell_type": "code",
      "source": [
        "Make_vs_Buy += lpSum(Make_Variables[i]*Cost_Make[i] +\n",
        "                     Buy_Variables[i]*Cost_Buy[i] for i in Models) "
      ],
      "metadata": {
        "id": "b9QE43B-DYq6"
      },
      "execution_count": 7,
      "outputs": []
    },
    {
      "cell_type": "markdown",
      "source": [
        "## 5. Define the Constraints"
      ],
      "metadata": {
        "id": "HdvxCFYwDACQ"
      }
    },
    {
      "cell_type": "code",
      "source": [
        "# Wiring Constraint \n",
        "Make_vs_Buy += lpSum(Make_Variables[i]*Hours_Wiring[i] for i in Models) <= Wiring_Capacity\n",
        "\n",
        "# Harnessing Constraint \n",
        "Make_vs_Buy += lpSum(Make_Variables[i]*Hours_Harnessing[i] for i in Models) <= Harnessing_Capacity"
      ],
      "metadata": {
        "id": "Vgm52D-7DFTF"
      },
      "execution_count": 8,
      "outputs": []
    },
    {
      "cell_type": "code",
      "source": [
        "# Demand Constraints \n",
        "for i in Models: \n",
        "  Make_vs_Buy += Make_Variables[i]+Buy_Variables[i] == Number_Ordered[i]"
      ],
      "metadata": {
        "id": "DRYCrdrMITJ9"
      },
      "execution_count": 9,
      "outputs": []
    },
    {
      "cell_type": "markdown",
      "source": [
        "## 6. Display the Problem "
      ],
      "metadata": {
        "id": "M9k4bpN5JmZ0"
      }
    },
    {
      "cell_type": "code",
      "source": [
        "Make_vs_Buy"
      ],
      "metadata": {
        "colab": {
          "base_uri": "https://localhost:8080/"
        },
        "id": "LNCrzT6MJTkt",
        "outputId": "dbd2e9d4-3bae-4249-f7da-402e03112a74"
      },
      "execution_count": 10,
      "outputs": [
        {
          "output_type": "execute_result",
          "data": {
            "text/plain": [
              "Make_vs_Buy_Problem:\n",
              "MINIMIZE\n",
              "61*B_Model1 + 97*B_Model2 + 145*B_Model3 + 50*M_Model1 + 83*M_Model2 + 130*M_Model3 + 0\n",
              "SUBJECT TO\n",
              "_C1: 2 M_Model1 + 1.5 M_Model2 + 3 M_Model3 <= 10000\n",
              "\n",
              "_C2: M_Model1 + 2 M_Model2 + M_Model3 <= 5000\n",
              "\n",
              "_C3: B_Model1 + M_Model1 = 3000\n",
              "\n",
              "_C4: B_Model2 + M_Model2 = 2000\n",
              "\n",
              "_C5: B_Model3 + M_Model3 = 900\n",
              "\n",
              "VARIABLES\n",
              "B_Model1 Continuous\n",
              "B_Model2 Continuous\n",
              "B_Model3 Continuous\n",
              "M_Model1 Continuous\n",
              "M_Model2 Continuous\n",
              "M_Model3 Continuous"
            ]
          },
          "metadata": {},
          "execution_count": 10
        }
      ]
    },
    {
      "cell_type": "markdown",
      "source": [
        "## 7. Slve the Problem "
      ],
      "metadata": {
        "id": "rErzLUPbJpmW"
      }
    },
    {
      "cell_type": "code",
      "source": [
        "Make_vs_Buy.solve()\n",
        "status = Make_vs_Buy.solve()\n",
        "print(p.LpStatus[status])\n"
      ],
      "metadata": {
        "colab": {
          "base_uri": "https://localhost:8080/"
        },
        "id": "tJzxgeSnJXLS",
        "outputId": "ef34605b-3642-44fa-c12f-e57f811b88bf"
      },
      "execution_count": 11,
      "outputs": [
        {
          "output_type": "stream",
          "name": "stdout",
          "text": [
            "Optimal\n"
          ]
        }
      ]
    },
    {
      "cell_type": "code",
      "source": [
        "print(\"Total cost =\", p.value(Make_vs_Buy.objective))\n",
        "print(\"All variables:\")\n",
        "for v in Make_vs_Buy.variables():\n",
        "  print(v.name, \"=\", v.varValue) "
      ],
      "metadata": {
        "colab": {
          "base_uri": "https://localhost:8080/"
        },
        "id": "LMA7MVeEJ1aW",
        "outputId": "7e918099-b475-4c4b-981f-c45c9c9a6e91"
      },
      "execution_count": 12,
      "outputs": [
        {
          "output_type": "stream",
          "name": "stdout",
          "text": [
            "Total cost = 453300.0\n",
            "All variables:\n",
            "B_Model1 = 0.0\n",
            "B_Model2 = 1450.0\n",
            "B_Model3 = 0.0\n",
            "M_Model1 = 3000.0\n",
            "M_Model2 = 550.0\n",
            "M_Model3 = 900.0\n"
          ]
        }
      ]
    }
  ]
}