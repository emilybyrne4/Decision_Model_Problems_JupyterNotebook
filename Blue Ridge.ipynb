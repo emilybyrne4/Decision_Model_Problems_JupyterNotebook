{
  "nbformat": 4,
  "nbformat_minor": 0,
  "metadata": {
    "colab": {
      "name": "Blue Ridge_Emily Byrne .ipynb",
      "provenance": [],
      "collapsed_sections": [
        "hviOVf-SBoIO"
      ]
    },
    "kernelspec": {
      "name": "python3",
      "display_name": "Python 3"
    },
    "language_info": {
      "name": "python"
    }
  },
  "cells": [
    {
      "cell_type": "markdown",
      "source": [
        "#### practice "
      ],
      "metadata": {
        "id": "hviOVf-SBoIO"
      }
    },
    {
      "cell_type": "code",
      "execution_count": 1,
      "metadata": {
        "colab": {
          "base_uri": "https://localhost:8080/"
        },
        "id": "yxxY1vTg7KeU",
        "outputId": "fdfb5aff-f056-4e99-a1b9-bb9eace94dd6"
      },
      "outputs": [
        {
          "output_type": "stream",
          "name": "stdout",
          "text": [
            "Emily\n",
            "Hello\n"
          ]
        }
      ],
      "source": [
        "print(\"Emily\")\n",
        "print(\"Hello\")"
      ]
    },
    {
      "cell_type": "markdown",
      "source": [
        "Welcome to the class! \n",
        "First Linear programming model\n",
        "Blue Ridge Example"
      ],
      "metadata": {
        "id": "G7Uk7kyj8mmO"
      }
    },
    {
      "cell_type": "markdown",
      "source": [
        "# Blue Ridge Example"
      ],
      "metadata": {
        "id": "Ko0wcHn9BkTt"
      }
    },
    {
      "cell_type": "markdown",
      "source": [
        "### Install Pulp Library"
      ],
      "metadata": {
        "id": "Gmogszc-830S"
      }
    },
    {
      "cell_type": "code",
      "source": [
        "# install pulp library "
      ],
      "metadata": {
        "id": "sZVJgn-d9oi8"
      },
      "execution_count": 2,
      "outputs": []
    },
    {
      "cell_type": "code",
      "source": [
        "pip install PuLP"
      ],
      "metadata": {
        "colab": {
          "base_uri": "https://localhost:8080/"
        },
        "id": "xEYLPgEe8gB2",
        "outputId": "8f5fe1a5-0af1-4707-d03c-7e827a115e34"
      },
      "execution_count": 3,
      "outputs": [
        {
          "output_type": "stream",
          "name": "stdout",
          "text": [
            "Looking in indexes: https://pypi.org/simple, https://us-python.pkg.dev/colab-wheels/public/simple/\n",
            "Requirement already satisfied: PuLP in /usr/local/lib/python3.7/dist-packages (2.6.0)\n"
          ]
        }
      ]
    },
    {
      "cell_type": "code",
      "source": [
        "from pulp import *"
      ],
      "metadata": {
        "id": "ya6knGoy8NQs"
      },
      "execution_count": 4,
      "outputs": []
    },
    {
      "cell_type": "code",
      "source": [
        "import pulp as p "
      ],
      "metadata": {
        "id": "VCKh2VJU-xSP"
      },
      "execution_count": 5,
      "outputs": []
    },
    {
      "cell_type": "markdown",
      "source": [
        "### Define Lists/Dictionaries for Input Parameters "
      ],
      "metadata": {
        "id": "1co4cTRg_HNL"
      }
    },
    {
      "cell_type": "code",
      "source": [
        "# Create a list of products \n",
        "Products = [ \"AquaSpa\", \"HydroLux\"] \n",
        "\n",
        "# Create a dictionary to identify the marginal profit for each product \n",
        "Unit_Profit = {\"AquaSpa\" : 350 , \"HydroLux\" : 300}\n",
        "\n",
        "# Create a dictionary for the pumps \n",
        "Pumps = {\"AquaSpa\" : 1 , \"HydroLux\" : 1}\n",
        "\n",
        "# Create a disctionary for the labor \n",
        "Labor = {\"AquaSpa\" : 9 , \"HydroLux\" : 6}\n",
        "\n",
        "# Create a dictionary for the Tubing \n",
        "Tubing = {\"AquaSpa\" : 12 , \"HydroLux\" : 16}\n",
        "\n",
        "# define a parameter for the available # of pumps \n",
        "Ava_pumps = 200\n",
        "\n",
        "# define a parameter for the available # of labor hours  \n",
        "Ava_Labor = 1566\n",
        "\n",
        "# define a parameter for the available # of tubing \n",
        "Ava_Tubing = 2880 \n"
      ],
      "metadata": {
        "id": "tpP6AVuu-5ab"
      },
      "execution_count": 6,
      "outputs": []
    },
    {
      "cell_type": "markdown",
      "source": [
        "### Define Decision Variables "
      ],
      "metadata": {
        "id": "CMecPlxABvUT"
      }
    },
    {
      "cell_type": "code",
      "source": [
        "Products_vars = LpVariable.dicts(\"Number\", Products, lowBound = 0, upBound = None, cat = LpContinuous)\n"
      ],
      "metadata": {
        "id": "G6q5KA1h_tU3"
      },
      "execution_count": 7,
      "outputs": []
    },
    {
      "cell_type": "code",
      "source": [
        "Products_vars"
      ],
      "metadata": {
        "colab": {
          "base_uri": "https://localhost:8080/"
        },
        "id": "vwXCfRwECKEw",
        "outputId": "b9c91098-ae91-49c2-87be-3c957437791d"
      },
      "execution_count": 8,
      "outputs": [
        {
          "output_type": "execute_result",
          "data": {
            "text/plain": [
              "{'AquaSpa': Number_AquaSpa, 'HydroLux': Number_HydroLux}"
            ]
          },
          "metadata": {},
          "execution_count": 8
        }
      ]
    },
    {
      "cell_type": "markdown",
      "source": [
        "### Define a Variable that Contains the Problem Data"
      ],
      "metadata": {
        "id": "0s9c9UngF9r8"
      }
    },
    {
      "cell_type": "code",
      "source": [
        "# Create Blue_Ridge variable to contain the problem data \n",
        "Blue_Ridge = p.LpProblem(\"Blue_Ridge_Example\", p.LpMaximize)"
      ],
      "metadata": {
        "id": "CHHSCogpDesJ"
      },
      "execution_count": 9,
      "outputs": []
    },
    {
      "cell_type": "code",
      "source": [
        "Blue_Ridge"
      ],
      "metadata": {
        "colab": {
          "base_uri": "https://localhost:8080/"
        },
        "id": "As_ix0ErFmon",
        "outputId": "49f3a1cb-5c15-4868-d0b8-fea28b0cc264"
      },
      "execution_count": 10,
      "outputs": [
        {
          "output_type": "execute_result",
          "data": {
            "text/plain": [
              "Blue_Ridge_Example:\n",
              "MAXIMIZE\n",
              "None\n",
              "VARIABLES"
            ]
          },
          "metadata": {},
          "execution_count": 10
        }
      ]
    },
    {
      "cell_type": "markdown",
      "source": [
        "### Define the Objective Function"
      ],
      "metadata": {
        "id": "Y7WNCHhvFy0V"
      }
    },
    {
      "cell_type": "code",
      "source": [
        "Blue_Ridge += lpSum(Unit_Profit[i]*Products_vars[i] for i in Products)"
      ],
      "metadata": {
        "id": "aYEnjNkyFo8k"
      },
      "execution_count": 11,
      "outputs": []
    },
    {
      "cell_type": "markdown",
      "source": [
        "X1: number of units of Aqua Spa \n",
        "X2: number of units of Hydro Lux \n",
        "\n",
        "Profit_1 = 350\n",
        "Profit_2 = 300\n",
        "\n",
        "Xi: number of units of product i, where i = Aqua, Hydro Lux\n",
        "Profit_i = marginal profit of product i, where i = Aqua, Hydro Lux  \n",
        "\n",
        "Objective Function \n",
        "\n",
        "350*X1+300*X2 \n",
        "\n",
        "Profit_1*X1+Profit_2*X2 \n",
        "\n",
        "Sum over i ( Profit_i*Xi) "
      ],
      "metadata": {
        "id": "j4jFCFJiG0Ow"
      }
    },
    {
      "cell_type": "code",
      "source": [
        "Blue_Ridge"
      ],
      "metadata": {
        "colab": {
          "base_uri": "https://localhost:8080/"
        },
        "id": "K3fvkEXNIm5C",
        "outputId": "973140eb-23ea-4f88-c026-3ac14a5b3d44"
      },
      "execution_count": 12,
      "outputs": [
        {
          "output_type": "execute_result",
          "data": {
            "text/plain": [
              "Blue_Ridge_Example:\n",
              "MAXIMIZE\n",
              "350*Number_AquaSpa + 300*Number_HydroLux + 0\n",
              "VARIABLES\n",
              "Number_AquaSpa Continuous\n",
              "Number_HydroLux Continuous"
            ]
          },
          "metadata": {},
          "execution_count": 12
        }
      ]
    },
    {
      "cell_type": "markdown",
      "source": [
        "### Define the Constraints "
      ],
      "metadata": {
        "id": "vSGWFRyQJUbZ"
      }
    },
    {
      "cell_type": "code",
      "source": [
        "# pumps \n",
        "# 1X1 + 1X2 <= 200 \n",
        "Blue_Ridge += lpSum(Pumps[i]*Products_vars[i] for i in Products) <= Ava_pumps \n",
        "\n",
        "# labor hours \n",
        "Blue_Ridge += lpSum(Labor[i]*Products_vars[i] for i in Products) <= Ava_Labor\n",
        "\n",
        "# tubing \n",
        "Blue_Ridge += lpSum(Tubing[i]*Products_vars[i] for i in Products) <= Ava_Tubing"
      ],
      "metadata": {
        "id": "C4U-auV7IoYb"
      },
      "execution_count": 13,
      "outputs": []
    },
    {
      "cell_type": "code",
      "source": [
        "Blue_Ridge"
      ],
      "metadata": {
        "colab": {
          "base_uri": "https://localhost:8080/"
        },
        "id": "7C2dsKPNKBYB",
        "outputId": "1c5e0abb-f7b6-4da6-8b2f-67f559fb6ec0"
      },
      "execution_count": 14,
      "outputs": [
        {
          "output_type": "execute_result",
          "data": {
            "text/plain": [
              "Blue_Ridge_Example:\n",
              "MAXIMIZE\n",
              "350*Number_AquaSpa + 300*Number_HydroLux + 0\n",
              "SUBJECT TO\n",
              "_C1: Number_AquaSpa + Number_HydroLux <= 200\n",
              "\n",
              "_C2: 9 Number_AquaSpa + 6 Number_HydroLux <= 1566\n",
              "\n",
              "_C3: 12 Number_AquaSpa + 16 Number_HydroLux <= 2880\n",
              "\n",
              "VARIABLES\n",
              "Number_AquaSpa Continuous\n",
              "Number_HydroLux Continuous"
            ]
          },
          "metadata": {},
          "execution_count": 14
        }
      ]
    },
    {
      "cell_type": "markdown",
      "source": [
        "### Solve the Problem"
      ],
      "metadata": {
        "id": "7lTNumU7Lf0B"
      }
    },
    {
      "cell_type": "code",
      "source": [
        "# print status \n",
        "\n",
        "status = Blue_Ridge.solve()\n",
        "print(p.LpStatus[status])"
      ],
      "metadata": {
        "colab": {
          "base_uri": "https://localhost:8080/"
        },
        "id": "XpVZdRRSKwH0",
        "outputId": "e98919e6-ffaa-4f9b-86c2-7b73176d3b71"
      },
      "execution_count": 15,
      "outputs": [
        {
          "output_type": "stream",
          "name": "stdout",
          "text": [
            "Optimal\n"
          ]
        }
      ]
    },
    {
      "cell_type": "code",
      "source": [
        "print(\"Total Profit\", p.value(Blue_Ridge.objective))"
      ],
      "metadata": {
        "colab": {
          "base_uri": "https://localhost:8080/"
        },
        "id": "pZwo9WvyLoLv",
        "outputId": "782dc6c8-0651-449c-9920-e740ac52b43f"
      },
      "execution_count": 16,
      "outputs": [
        {
          "output_type": "stream",
          "name": "stdout",
          "text": [
            "Total Profit 66100.0\n"
          ]
        }
      ]
    },
    {
      "cell_type": "code",
      "source": [
        "for i in Blue_Ridge.variables(): \n",
        "  print(i.name, \"=\", i.varValue) "
      ],
      "metadata": {
        "colab": {
          "base_uri": "https://localhost:8080/"
        },
        "id": "oFEk82qaMGfa",
        "outputId": "49310509-cd0e-4394-e317-87366d0b6891"
      },
      "execution_count": 17,
      "outputs": [
        {
          "output_type": "stream",
          "name": "stdout",
          "text": [
            "Number_AquaSpa = 122.0\n",
            "Number_HydroLux = 78.0\n"
          ]
        }
      ]
    },
    {
      "cell_type": "code",
      "source": [],
      "metadata": {
        "id": "R8TzrStxMpzw"
      },
      "execution_count": 17,
      "outputs": []
    }
  ]
}
